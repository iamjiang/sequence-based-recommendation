{
 "cells": [
  {
   "cell_type": "code",
   "execution_count": 1,
   "id": "f49ac1c4-eaf3-44c5-87c0-fc3e3c081170",
   "metadata": {},
   "outputs": [
    {
     "name": "stdout",
     "output_type": "stream",
     "text": [
      "Namespace(dataset='amex_explorepoi-poi_category')\n"
     ]
    }
   ],
   "source": [
    "import argparse\n",
    "import time\n",
    "import csv\n",
    "import pickle\n",
    "import operator\n",
    "import datetime\n",
    "import os\n",
    "from tqdm import tqdm\n",
    "import pandas as pd\n",
    "\n",
    "parser = argparse.ArgumentParser()\n",
    "parser.add_argument('--dataset', default='amex_explorepoi-poi_category')\n",
    "args,_ = parser.parse_known_args()\n",
    "print(args)"
   ]
  },
  {
   "cell_type": "code",
   "execution_count": 2,
   "id": "f45e8dbb-7612-4a59-9d67-24bd69a778aa",
   "metadata": {},
   "outputs": [],
   "source": [
    "def example(data):\n",
    "    Y=[]\n",
    "    with open(data, 'r') as fn:\n",
    "        for ix,line in enumerate(fn):\n",
    "            if ix<=5:\n",
    "                Y.append(line.strip(\"\\n\"))\n",
    "    \n",
    "    return Y"
   ]
  },
  {
   "cell_type": "code",
   "execution_count": 3,
   "id": "4846aa40-de47-4787-a44f-4bffd534086b",
   "metadata": {},
   "outputs": [
    {
     "data": {
      "text/plain": [
       "['sessionId,timestamp,itemId,category',\n",
       " '0,2022-03-01T04:21:32Z,20640',\n",
       " '0,2022-03-01T04:21:48Z,57633',\n",
       " '1,2022-03-01T13:58:34Z,18506',\n",
       " '2,2022-03-01T16:43:02Z,0',\n",
       " '2,2022-03-01T16:43:04Z,0']"
      ]
     },
     "execution_count": 3,
     "metadata": {},
     "output_type": "execute_result"
    }
   ],
   "source": [
    "dataset_path = '/home/ec2-user/SageMaker/sequence-based-recommendation/s3_file_processing/dataset_files/amex-yoochoose-format/'\n",
    "#amex log datasets\n",
    "with open(os.path.join(dataset_path,'amex_logs_poi_clicks.dat'), 'r') as f, open('amex_log_poi_clicks-withHeader.dat', 'w') as fn:\n",
    "    fn.write('sessionId,timestamp,itemId,category'+'\\n')\n",
    "    for line in f:\n",
    "        fn.write(line) \n",
    "        \n",
    "example('amex_log_poi_clicks-withHeader.dat')"
   ]
  },
  {
   "cell_type": "code",
   "execution_count": 4,
   "id": "77f4aee6-ee92-45dc-b865-7daa82234328",
   "metadata": {},
   "outputs": [
    {
     "data": {
      "text/plain": [
       "['sessionId,timestamp,itemId,category',\n",
       " '1,2022-04-30T21:17:16Z,59508,5',\n",
       " '1,2022-04-30T21:17:16Z,59508,5',\n",
       " '1,2022-04-30T21:21:35Z,32914,5',\n",
       " '1,2022-04-30T21:21:35Z,32914,5',\n",
       " '1,2022-04-30T21:22:03Z,11859,4']"
      ]
     },
     "execution_count": 4,
     "metadata": {},
     "output_type": "execute_result"
    }
   ],
   "source": [
    "#amex explore_POI datasets       \n",
    "with open(os.path.join(dataset_path,'AMEX_explorepoi_poi_category_clicks.dat'), 'r') as f, open('AMEX_explorepoi_poi_category_clicks-withHeader.dat', 'w') as fn:\n",
    "    fn.write('sessionId,timestamp,itemId,category'+'\\n')\n",
    "    for line in f:\n",
    "        fn.write(line)\n",
    "        \n",
    "example('AMEX_explorepoi_poi_category_clicks-withHeader.dat')"
   ]
  },
  {
   "cell_type": "code",
   "execution_count": 5,
   "id": "4e2e6315-cc18-4f6c-a056-d9b4d384b07d",
   "metadata": {},
   "outputs": [
    {
     "data": {
      "text/plain": [
       "['sessionId,timestamp,itemId,category',\n",
       " '1,2022-04-30T21:17:16Z,59508,583',\n",
       " '1,2022-04-30T21:17:16Z,59508,583',\n",
       " '1,2022-04-30T21:21:35Z,32914,583',\n",
       " '1,2022-04-30T21:21:35Z,32914,583',\n",
       " '1,2022-04-30T21:22:03Z,11859,583']"
      ]
     },
     "execution_count": 5,
     "metadata": {},
     "output_type": "execute_result"
    }
   ],
   "source": [
    "with open(os.path.join(dataset_path,'AMEX_explorepoi_poi_context_clicks.dat'), 'r') as f, open('AMEX_explorepoi_poi_context_clicks-withHeader.dat', 'w') as fn:\n",
    "    fn.write('sessionId,timestamp,itemId,category'+'\\n')\n",
    "    for line in f:\n",
    "        fn.write(line)\n",
    "        \n",
    "example('AMEX_explorepoi_poi_context_clicks-withHeader.dat')"
   ]
  },
  {
   "cell_type": "code",
   "execution_count": 6,
   "id": "09964b2f-6e59-4ad2-be54-ddadde98adaf",
   "metadata": {},
   "outputs": [
    {
     "data": {
      "text/plain": [
       "['sessionId,timestamp,itemId,category',\n",
       " '1,2022-04-30T21:17:16Z,5,583',\n",
       " '1,2022-04-30T21:17:16Z,5,583',\n",
       " '1,2022-04-30T21:21:35Z,5,583',\n",
       " '1,2022-04-30T21:21:35Z,5,583',\n",
       " '1,2022-04-30T21:22:03Z,4,583']"
      ]
     },
     "execution_count": 6,
     "metadata": {},
     "output_type": "execute_result"
    }
   ],
   "source": [
    "with open(os.path.join(dataset_path,'AMEX_explorepoi_category_clicks.dat'), 'r') as f, open('AMEX_explorepoi_category_clicks-withHeader.dat', 'w') as fn:\n",
    "    fn.write('sessionId,timestamp,itemId,category'+'\\n')\n",
    "    for line in f:\n",
    "        fn.write(line)\n",
    "example('AMEX_explorepoi_category_clicks-withHeader.dat')"
   ]
  },
  {
   "cell_type": "code",
   "execution_count": 7,
   "id": "3462b0fa-b55d-4dc4-8270-ad561fb655c6",
   "metadata": {},
   "outputs": [
    {
     "data": {
      "text/plain": [
       "['sessionId,timestamp,itemId,category',\n",
       " '1,2022-04-30T21:17:16Z,583,5',\n",
       " '1,2022-04-30T21:17:16Z,583,5',\n",
       " '1,2022-04-30T21:21:35Z,583,5',\n",
       " '1,2022-04-30T21:21:35Z,583,5',\n",
       " '1,2022-04-30T21:22:03Z,583,4']"
      ]
     },
     "execution_count": 7,
     "metadata": {},
     "output_type": "execute_result"
    }
   ],
   "source": [
    "with open(os.path.join(dataset_path,'AMEX_explorepoi_context_clicks.dat'), 'r') as f, open('AMEX_explorepoi_context_clicks-withHeader.dat', 'w') as fn:\n",
    "    fn.write('sessionId,timestamp,itemId,category'+'\\n')\n",
    "    for line in f:\n",
    "        fn.write(line)\n",
    "        \n",
    "example('AMEX_explorepoi_context_clicks-withHeader.dat')"
   ]
  },
  {
   "cell_type": "code",
   "execution_count": 8,
   "id": "6d221ea1-654d-40ec-b5d9-d4aba60141c8",
   "metadata": {},
   "outputs": [],
   "source": [
    "if args.dataset == 'diginetica':\n",
    "    dataset = 'train-item-views.csv'\n",
    "elif args.dataset =='yoochoose':\n",
    "    dataset = 'yoochoose-clicks-withHeader.dat'\n",
    "# elif args.dataset =='amex_explorepoi':\n",
    "#     dataset = 'AMEX_yoochoose_clicks-withHeader.dat'\n",
    "# elif args.dataset =='amex_explorepoi_category':\n",
    "#     dataset = 'AMEX_explorepoi_category_clicks-withHeader.dat'\n",
    "# elif args.dataset =='amex_explorepoi_context':\n",
    "#     dataset = 'AMEX_explorepoi_context_clicks-withHeader.dat'\n",
    "# elif args.dataset =='amex_poi':\n",
    "#     print('in amex poi')\n",
    "#     dataset = 'amex_output-withHeader.dat'\n",
    "# elif args.dataset =='amex_category':\n",
    "#     dataset = 'amex_category_output-withHeader.dat'\n",
    "# elif args.dataset =='amex_context':\n",
    "#     dataset = 'amex_context_output-withHeader.dat'\n",
    "# else:\n",
    "#     print('invalid dataset name')\n",
    "elif args.dataset =='amex_explorepoi-poi_category':\n",
    "    dataset = 'AMEX_explorepoi_poi_category_clicks-withHeader.dat'\n",
    "elif args.dataset =='amex_explorepoi-poi_context':\n",
    "    dataset = 'AMEX_explorepoi_poi_context_clicks-withHeader.dat'\n",
    "elif args.dataset =='amex_explorepoi-category':\n",
    "    dataset = 'AMEX_explorepoi_category_clicks-withHeader.dat'\n",
    "elif args.dataset =='amex_explorepoi-context':\n",
    "    dataset = 'AMEX_explorepoi_context_clicks-withHeader.dat'\n",
    "# elif args.dataset =='amex_poi':\n",
    "#     dataset = 'amex_output-withHeader.dat'\n",
    "# elif args.dataset =='amex_category':\n",
    "#     dataset = 'amex_category_output-withHeader.dat'\n",
    "# elif args.dataset =='amex_context':\n",
    "#     dataset = 'amex_context_output-withHeader.dat'\n",
    "    \n",
    "elif args.dataset =='amex_log-poi':\n",
    "    dataset = 'amex_log_poi_clicks-withHeader.dat'\n",
    "elif args.dataset =='amex_log-category':\n",
    "    dataset = 'amex_log_category_clicks-withHeader.dat'\n",
    "elif args.dataset =='amex_log-context':\n",
    "    dataset = 'amex_log_context_clicks-withHeader.dat'\n",
    "else:\n",
    "    print('invalid dataset name')"
   ]
  },
  {
   "cell_type": "code",
   "execution_count": 9,
   "id": "8acaca31-cc4b-4ead-95cc-c6a44625d295",
   "metadata": {},
   "outputs": [
    {
     "data": {
      "text/plain": [
       "['sessionId,timestamp,itemId,category',\n",
       " '1,2022-04-30T21:17:16Z,59508,5',\n",
       " '1,2022-04-30T21:17:16Z,59508,5',\n",
       " '1,2022-04-30T21:21:35Z,32914,5',\n",
       " '1,2022-04-30T21:21:35Z,32914,5',\n",
       " '1,2022-04-30T21:22:03Z,11859,4']"
      ]
     },
     "execution_count": 9,
     "metadata": {},
     "output_type": "execute_result"
    }
   ],
   "source": [
    "example('AMEX_explorepoi_poi_category_clicks-withHeader.dat')"
   ]
  },
  {
   "cell_type": "code",
   "execution_count": 10,
   "id": "cf33df25-a458-4f8b-b22a-870faed6ee7a",
   "metadata": {},
   "outputs": [
    {
     "name": "stdout",
     "output_type": "stream",
     "text": [
      "-- Starting @ 2022-10-17 17:00:11.085236s\n"
     ]
    },
    {
     "name": "stderr",
     "output_type": "stream",
     "text": [
      "14768it [00:00, 233634.76it/s]"
     ]
    },
    {
     "name": "stdout",
     "output_type": "stream",
     "text": [
      "-- Reading data @ 2022-10-17 17:00:11.153031s\n"
     ]
    },
    {
     "name": "stderr",
     "output_type": "stream",
     "text": [
      "\n"
     ]
    }
   ],
   "source": [
    "preprocess_output_log = dict({'dataset name':  args.dataset})\n",
    "\n",
    "amex_sets = set(['amex_explorepoi-poi_category', 'amex_explorepoi-poi_context', 'amex_explorepoi-category', 'amex_explorepoi-context', 'amex_log-poi', 'amex_log-category', 'amex_log-context'])\n",
    "print(\"-- Starting @ %ss\" % datetime.datetime.now())\n",
    "with open(dataset, \"r\") as f:\n",
    "    if args.dataset == 'yoochoose' or args.dataset in amex_sets:\n",
    "        reader = csv.DictReader(f, delimiter=',')\n",
    "    else:\n",
    "        reader = csv.DictReader(f, delimiter=';')\n",
    "    sess_clicks = {}\n",
    "    sess_date = {}\n",
    "    ctr = 0\n",
    "    curid = -1\n",
    "    curdate = None\n",
    "    for data in tqdm(reader):\n",
    "        sessid = data['sessionId']\n",
    "        if curdate and not curid == sessid:\n",
    "            date = ''\n",
    "            if args.dataset == 'yoochoose' or args.dataset in amex_sets:\n",
    "                date = time.mktime(time.strptime(curdate[:19], '%Y-%m-%dT%H:%M:%S'))\n",
    "#             elif args.dataset in amex_sets: \n",
    "#                 date = curdate\n",
    "            else:\n",
    "                date = time.mktime(time.strptime(curdate, '%Y-%m-%d'))\n",
    "            sess_date[curid] = date\n",
    "        curid = sessid\n",
    "        if args.dataset == 'yoochoose' or args.dataset in amex_sets:\n",
    "            item = data['itemId']\n",
    "        else:\n",
    "            item = data['itemId'], int(data['timeframe'])\n",
    "        curdate = ''\n",
    "        if args.dataset == 'yoochoose' or args.dataset in amex_sets:\n",
    "            curdate = data['timestamp']\n",
    "        else:\n",
    "            curdate = data['eventdate']\n",
    "\n",
    "        if sessid in sess_clicks:\n",
    "            sess_clicks[sessid] += [item]\n",
    "        else:\n",
    "            sess_clicks[sessid] = [item]\n",
    "        ctr += 1\n",
    "        \n",
    "    date = ''\n",
    "    if args.dataset == 'yoochoose' or args.dataset in amex_sets:\n",
    "        date = time.mktime(time.strptime(curdate[:19], '%Y-%m-%dT%H:%M:%S'))\n",
    "    else:\n",
    "        date = time.mktime(time.strptime(curdate, '%Y-%m-%d'))\n",
    "        for i in list(sess_clicks):\n",
    "            sorted_clicks = sorted(sess_clicks[i], key=operator.itemgetter(1))\n",
    "            sess_clicks[i] = [c[0] for c in sorted_clicks]\n",
    "    sess_date[curid] = date\n",
    "    \n",
    "print(\"-- Reading data @ %ss\" % datetime.datetime.now())\n",
    "preprocess_output_log['start time'] = datetime.datetime.now()"
   ]
  },
  {
   "cell_type": "code",
   "execution_count": 11,
   "id": "0a16c36b-dffc-4e6f-bbe8-116e4d66a8d1",
   "metadata": {},
   "outputs": [
    {
     "data": {
      "text/plain": [
       "1649"
      ]
     },
     "execution_count": 11,
     "metadata": {},
     "output_type": "execute_result"
    }
   ],
   "source": [
    "len(sess_clicks)"
   ]
  },
  {
   "cell_type": "code",
   "execution_count": 12,
   "id": "af51b470-d898-4603-b903-5493f7536c5b",
   "metadata": {},
   "outputs": [],
   "source": [
    "len1_sessions_filtered_count = 0 \n",
    "# Filter out length 1 sessions\n",
    "for s in list(sess_clicks):\n",
    "    if len(sess_clicks[s]) == 1:\n",
    "        len1_sessions_filtered_count += 1\n",
    "        del sess_clicks[s]\n",
    "        del sess_date[s]\n",
    "        \n",
    "preprocess_output_log['length 1 sessions filtered'] = len1_sessions_filtered_count"
   ]
  },
  {
   "cell_type": "code",
   "execution_count": 13,
   "id": "6dcbb54d-668f-469b-a1b4-086196652e7a",
   "metadata": {},
   "outputs": [
    {
     "data": {
      "text/plain": [
       "{'dataset name': 'amex_explorepoi-poi_category',\n",
       " 'start time': datetime.datetime(2022, 10, 17, 17, 0, 11, 153085),\n",
       " 'length 1 sessions filtered': 87}"
      ]
     },
     "execution_count": 13,
     "metadata": {},
     "output_type": "execute_result"
    }
   ],
   "source": [
    "preprocess_output_log"
   ]
  },
  {
   "cell_type": "code",
   "execution_count": 14,
   "id": "7d373a73-d32e-4e86-ad89-e893286c741a",
   "metadata": {},
   "outputs": [
    {
     "data": {
      "text/plain": [
       "1562"
      ]
     },
     "execution_count": 14,
     "metadata": {},
     "output_type": "execute_result"
    }
   ],
   "source": [
    "len(sess_clicks)"
   ]
  },
  {
   "cell_type": "code",
   "execution_count": 15,
   "id": "a0d2b1be-937e-46d9-b197-3d17f897191c",
   "metadata": {},
   "outputs": [],
   "source": [
    "# Count number of times each item appears\n",
    "iid_counts = {}\n",
    "for s in sess_clicks:\n",
    "    seq = sess_clicks[s]\n",
    "    for iid in seq:\n",
    "        if iid in iid_counts:\n",
    "            iid_counts[iid] += 1\n",
    "        else:\n",
    "            iid_counts[iid] = 1\n",
    "\n",
    "sorted_counts = sorted(iid_counts.items(), key=operator.itemgetter(1))"
   ]
  },
  {
   "cell_type": "code",
   "execution_count": 16,
   "id": "000bb3a9-8855-49d8-8902-cd7a675c0b34",
   "metadata": {},
   "outputs": [
    {
     "data": {
      "text/plain": [
       "[('12966', 28), ('56712', 29), ('42389', 30), ('32357', 33), ('9889', 57)]"
      ]
     },
     "execution_count": 16,
     "metadata": {},
     "output_type": "execute_result"
    }
   ],
   "source": [
    "sorted_counts[-5:]"
   ]
  },
  {
   "cell_type": "code",
   "execution_count": 17,
   "id": "d4d439fd-1c9f-4e38-959b-26369ce5caaf",
   "metadata": {},
   "outputs": [
    {
     "name": "stdout",
     "output_type": "stream",
     "text": [
      "before filtering:\t 1562\n",
      "after filtering:\t 715\n"
     ]
    }
   ],
   "source": [
    "length = len(sess_clicks)\n",
    "for s in list(sess_clicks):\n",
    "    curseq = sess_clicks[s]\n",
    "    filseq = list(filter(lambda i: iid_counts[i] >= 5, curseq))\n",
    "    if len(filseq) < 2:\n",
    "        del sess_clicks[s]\n",
    "        del sess_date[s]\n",
    "    else:\n",
    "        sess_clicks[s] = filseq\n",
    "        \n",
    "print(f\"before filtering:\\t {length}\")\n",
    "print(f\"after filtering:\\t {len(sess_clicks)}\")"
   ]
  },
  {
   "cell_type": "code",
   "execution_count": 18,
   "id": "5c7a05aa-6bec-4557-ab83-358567d5cb66",
   "metadata": {},
   "outputs": [
    {
     "data": {
      "text/plain": [
       "{'dataset name': 'amex_explorepoi-poi_category',\n",
       " 'start time': datetime.datetime(2022, 10, 17, 17, 0, 11, 153085),\n",
       " 'length 1 sessions filtered': 87,\n",
       " 'max date': 1654055911.0}"
      ]
     },
     "execution_count": 18,
     "metadata": {},
     "output_type": "execute_result"
    }
   ],
   "source": [
    "# Split out test set based on dates\n",
    "dates = list(sess_date.items())\n",
    "maxdate = dates[0][1]\n",
    "\n",
    "for _, date in dates:\n",
    "    if maxdate < date:\n",
    "        maxdate = date\n",
    "preprocess_output_log['max date'] = maxdate\n",
    "preprocess_output_log"
   ]
  },
  {
   "cell_type": "code",
   "execution_count": 19,
   "id": "f57dcb92-f20a-4674-97b0-f1e6715ba8c6",
   "metadata": {},
   "outputs": [],
   "source": [
    "amex_splitdate = 6\n",
    "preprocess_output_log['amex split days before maxdate'] = amex_splitdate\n",
    "# 7 days for test\n",
    "splitdate = 0\n",
    "if args.dataset == 'yoochoose':\n",
    "    splitdate = maxdate - 86400 * 1  #the number of seconds for a day：86400\n",
    "elif args.dataset in amex_sets: \n",
    "    splitdate = maxdate - 86400 * amex_splitdate #chosen to be 6 days?\n",
    "else:\n",
    "    splitdate = maxdate - 86400 * 7 "
   ]
  },
  {
   "cell_type": "code",
   "execution_count": 20,
   "id": "d165aeda-49dc-47f1-a1ef-cfc3d8d6afc7",
   "metadata": {},
   "outputs": [
    {
     "name": "stdout",
     "output_type": "stream",
     "text": [
      "Splitting date 1653537511.0\n"
     ]
    }
   ],
   "source": [
    "print('Splitting date', splitdate)      # Yoochoose: ('Split date', 1411930799.0)\n",
    "tra_sess = filter(lambda x: x[1] < splitdate, dates)\n",
    "tes_sess = filter(lambda x: x[1] > splitdate, dates)"
   ]
  },
  {
   "cell_type": "code",
   "execution_count": 21,
   "id": "974043ef-e78b-438f-b273-f9549f602704",
   "metadata": {},
   "outputs": [
    {
     "name": "stdout",
     "output_type": "stream",
     "text": [
      "644\n",
      "71\n",
      "[('1071', 1646251192.0), ('1082', 1646263575.0), ('1640', 1646274370.0)]\n",
      "[('624', 1653544398.0), ('1284', 1653574630.0), ('392', 1653584603.0)]\n",
      "-- Splitting train set and test set @ 2022-10-17 17:00:11.221096s\n"
     ]
    }
   ],
   "source": [
    "# Sort sessions by date\n",
    "tra_sess = sorted(tra_sess, key=operator.itemgetter(1))     # [(sessionId, timestamp), (), ]\n",
    "tes_sess = sorted(tes_sess, key=operator.itemgetter(1))     # [(sessionId, timestamp), (), ]\n",
    "print(len(tra_sess))    # 186670    # 7966257    explore_poi 771 explorepoi_con 1170\n",
    "print(len(tes_sess))    # 15979     # 15324      explore_poi 84  explorepoi_con 148\n",
    "print(tra_sess[:3])\n",
    "print(tes_sess[:3])\n",
    "print(\"-- Splitting train set and test set @ %ss\" % datetime.datetime.now())"
   ]
  },
  {
   "cell_type": "code",
   "execution_count": 22,
   "id": "b5c69977-89a6-41db-8e86-08ef13b7558a",
   "metadata": {},
   "outputs": [],
   "source": [
    "preprocess_output_log['len training sessions (tra_sess)'] = len(tra_sess)\n",
    "preprocess_output_log['len test sessions (tes_sess)'] = len(tes_sess)"
   ]
  },
  {
   "cell_type": "code",
   "execution_count": 23,
   "id": "2f2c889a-6434-4f8d-8384-e4b5e3d7be82",
   "metadata": {},
   "outputs": [
    {
     "name": "stdout",
     "output_type": "stream",
     "text": [
      "item count: \n",
      "556\n"
     ]
    }
   ],
   "source": [
    "# Choosing item count >=5 gives approximately the same number of items as reported in paper\n",
    "item_dict = {}\n",
    "# Convert training sessions to sequences and renumber items to start from 1\n",
    "def obtian_tra():\n",
    "    train_ids = []\n",
    "    train_seqs = []\n",
    "    train_dates = []\n",
    "    item_ctr = 1\n",
    "    for s, date in tra_sess:\n",
    "        seq = sess_clicks[s]\n",
    "        outseq = []\n",
    "        for i in seq:\n",
    "            if i in item_dict:\n",
    "                outseq += [item_dict[i]]\n",
    "            else:\n",
    "                outseq += [item_ctr]\n",
    "                item_dict[i] = item_ctr\n",
    "                item_ctr += 1\n",
    "        if len(outseq) < 2:  # Doesn't occur\n",
    "            continue\n",
    "        train_ids += [s]\n",
    "        train_dates += [date]\n",
    "        train_seqs += [outseq]\n",
    "    print('item count: ')\n",
    "    preprocess_output_log['item count:'] = item_ctr\n",
    "    print(item_ctr)     # 43098, 37484, \n",
    "                        #explore_poi: 551 explorepoi_category: 4, explorepoi_context: 183\n",
    "                        #amex: 1164  amexcategory: 4  amexcontext: 482\n",
    "    return train_ids, train_dates, train_seqs\n",
    "\n",
    "\n",
    "# Convert test sessions to sequences, ignoring items that do not appear in training set\n",
    "def obtian_tes():\n",
    "    test_ids = []\n",
    "    test_seqs = []\n",
    "    test_dates = []\n",
    "    for s, date in tes_sess:\n",
    "        seq = sess_clicks[s]\n",
    "        outseq = []\n",
    "        for i in seq:\n",
    "            if i in item_dict:\n",
    "                outseq += [item_dict[i]]\n",
    "        if len(outseq) < 2:\n",
    "            continue\n",
    "        test_ids += [s]\n",
    "        test_dates += [date]\n",
    "        test_seqs += [outseq]\n",
    "    return test_ids, test_dates, test_seqs\n",
    "\n",
    "\n",
    "tra_ids, tra_dates, tra_seqs = obtian_tra()\n",
    "tes_ids, tes_dates, tes_seqs = obtian_tes()\n"
   ]
  },
  {
   "cell_type": "code",
   "execution_count": 24,
   "id": "94dca18d-4389-40d6-9bef-b30181019e75",
   "metadata": {},
   "outputs": [
    {
     "name": "stdout",
     "output_type": "stream",
     "text": [
      "3536\n",
      "305\n",
      "[[1], [2], [3, 3, 4, 4]] [1646251192.0, 1646263575.0, 1646274370.0] [1, 2, 4]\n",
      "[[555, 50, 50, 555], [555, 50, 50], [555, 50]] [1653544398.0, 1653544398.0, 1653544398.0] [555, 555, 50]\n",
      "avg length:  6.4405099150141645\n"
     ]
    },
    {
     "data": {
      "text/plain": [
       "{'dataset name': 'amex_explorepoi-poi_category',\n",
       " 'start time': datetime.datetime(2022, 10, 17, 17, 0, 11, 153085),\n",
       " 'length 1 sessions filtered': 87,\n",
       " 'max date': 1654055911.0,\n",
       " 'amex split days before maxdate': 6,\n",
       " 'len training sessions (tra_sess)': 644,\n",
       " 'len test sessions (tes_sess)': 71,\n",
       " 'item count:': 556,\n",
       " 'len training seqs (tr_seqs)': 3536,\n",
       " 'len test seqs (te_seqs)': 3536,\n",
       " 'avg length': 6.4405099150141645}"
      ]
     },
     "execution_count": 24,
     "metadata": {},
     "output_type": "execute_result"
    }
   ],
   "source": [
    "def process_seqs(iseqs, idates):\n",
    "    out_seqs = []\n",
    "    out_dates = []\n",
    "    labs = []\n",
    "    ids = []\n",
    "    for id, seq, date in zip(range(len(iseqs)), iseqs, idates):\n",
    "        for i in range(1, len(seq)):\n",
    "            tar = seq[-i]\n",
    "            labs += [tar]\n",
    "            out_seqs += [seq[:-i]]\n",
    "            out_dates += [date]\n",
    "            ids += [id]\n",
    "    return out_seqs, out_dates, labs, ids\n",
    "\n",
    "\n",
    "tr_seqs, tr_dates, tr_labs, tr_ids = process_seqs(tra_seqs, tra_dates)\n",
    "te_seqs, te_dates, te_labs, te_ids = process_seqs(tes_seqs, tes_dates)\n",
    "tra = (tr_seqs, tr_labs)\n",
    "tes = (te_seqs, te_labs)\n",
    "print(len(tr_seqs))  # explore_poi: 3361 explore_cont: 9998\n",
    "print(len(te_seqs))  # explore_poi: 298  explore_cont: 1432\n",
    "print(tr_seqs[:3], tr_dates[:3], tr_labs[:3])\n",
    "print(te_seqs[:3], te_dates[:3], te_labs[:3])\n",
    "all = 0\n",
    "\n",
    "preprocess_output_log['len training seqs (tr_seqs)'] = len(tr_seqs)\n",
    "preprocess_output_log['len test seqs (te_seqs)'] = len(tr_seqs)\n",
    "\n",
    "for seq in tra_seqs:\n",
    "    all += len(seq)\n",
    "for seq in tes_seqs:\n",
    "    all += len(seq)\n",
    "print('avg length: ', all/(len(tra_seqs) + len(tes_seqs) * 1.0))\n",
    "\n",
    "preprocess_output_log['avg length'] = all/(len(tra_seqs) + len(tes_seqs) * 1.0)\n",
    "preprocess_output_log"
   ]
  },
  {
   "cell_type": "code",
   "execution_count": 25,
   "id": "0119fd43-aced-4954-9806-957ffd1a51eb",
   "metadata": {},
   "outputs": [
    {
     "name": "stdout",
     "output_type": "stream",
     "text": [
      "{'dataset name': ['amex_explorepoi-poi_category'], 'start time': [datetime.datetime(2022, 10, 17, 17, 0, 11, 153085)], 'length 1 sessions filtered': [87], 'max date': [1654055911.0], 'amex split days before maxdate': [6], 'len training sessions (tra_sess)': [644], 'len test sessions (tes_sess)': [71], 'item count:': [556], 'len training seqs (tr_seqs)': [3536], 'len test seqs (te_seqs)': [3536], 'avg length': [6.4405099150141645]}\n"
     ]
    }
   ],
   "source": [
    "preprocess_output_log = {k:[v] for k,v in preprocess_output_log.items()}\n",
    "print(preprocess_output_log)"
   ]
  },
  {
   "cell_type": "code",
   "execution_count": 26,
   "id": "b1e54fe7-ae81-41ac-b197-b61004fb7521",
   "metadata": {},
   "outputs": [
    {
     "data": {
      "text/html": [
       "<div>\n",
       "<style scoped>\n",
       "    .dataframe tbody tr th:only-of-type {\n",
       "        vertical-align: middle;\n",
       "    }\n",
       "\n",
       "    .dataframe tbody tr th {\n",
       "        vertical-align: top;\n",
       "    }\n",
       "\n",
       "    .dataframe thead th {\n",
       "        text-align: right;\n",
       "    }\n",
       "</style>\n",
       "<table border=\"1\" class=\"dataframe\">\n",
       "  <thead>\n",
       "    <tr style=\"text-align: right;\">\n",
       "      <th></th>\n",
       "      <th>dataset name</th>\n",
       "      <th>start time</th>\n",
       "      <th>length 1 sessions filtered</th>\n",
       "      <th>max date</th>\n",
       "      <th>amex split days before maxdate</th>\n",
       "      <th>len training sessions (tra_sess)</th>\n",
       "      <th>len test sessions (tes_sess)</th>\n",
       "      <th>item count:</th>\n",
       "      <th>len training seqs (tr_seqs)</th>\n",
       "      <th>len test seqs (te_seqs)</th>\n",
       "      <th>avg length</th>\n",
       "    </tr>\n",
       "  </thead>\n",
       "  <tbody>\n",
       "    <tr>\n",
       "      <th>0</th>\n",
       "      <td>amex_explorepoi-poi_category</td>\n",
       "      <td>2022-10-17 17:00:11.153085</td>\n",
       "      <td>87</td>\n",
       "      <td>1.654056e+09</td>\n",
       "      <td>6</td>\n",
       "      <td>644</td>\n",
       "      <td>71</td>\n",
       "      <td>556</td>\n",
       "      <td>3536</td>\n",
       "      <td>3536</td>\n",
       "      <td>6.44051</td>\n",
       "    </tr>\n",
       "  </tbody>\n",
       "</table>\n",
       "</div>"
      ],
      "text/plain": [
       "                   dataset name                 start time  \\\n",
       "0  amex_explorepoi-poi_category 2022-10-17 17:00:11.153085   \n",
       "\n",
       "   length 1 sessions filtered      max date  amex split days before maxdate  \\\n",
       "0                          87  1.654056e+09                               6   \n",
       "\n",
       "   len training sessions (tra_sess)  len test sessions (tes_sess)  \\\n",
       "0                               644                            71   \n",
       "\n",
       "   item count:  len training seqs (tr_seqs)  len test seqs (te_seqs)  \\\n",
       "0          556                         3536                     3536   \n",
       "\n",
       "   avg length  \n",
       "0     6.44051  "
      ]
     },
     "execution_count": 26,
     "metadata": {},
     "output_type": "execute_result"
    }
   ],
   "source": [
    "output_df = pd.DataFrame.from_dict(preprocess_output_log) \n",
    "output_df"
   ]
  },
  {
   "cell_type": "code",
   "execution_count": 27,
   "id": "0f403d99-dfda-4c12-94e2-94d033873de1",
   "metadata": {},
   "outputs": [],
   "source": [
    "if args.dataset in amex_sets:\n",
    "    if not os.path.exists(args.dataset):\n",
    "        os.makedirs(args.dataset)\n",
    "    pickle.dump(tra, open(args.dataset + '/train.txt', 'wb'))\n",
    "    pickle.dump(tes, open(args.dataset + '/test.txt', 'wb'))\n",
    "    pickle.dump(tra_seqs, open(args.dataset + '/all_train_seq.txt', 'wb'))"
   ]
  },
  {
   "cell_type": "code",
   "execution_count": null,
   "id": "a8b59370-fdab-444d-855b-845a4ddb1aa8",
   "metadata": {},
   "outputs": [],
   "source": []
  },
  {
   "cell_type": "code",
   "execution_count": 28,
   "id": "e1fda295-2e9e-4e3b-abff-94f2e7d2d9a3",
   "metadata": {},
   "outputs": [
    {
     "data": {
      "text/plain": [
       "'/home/ec2-user/SageMaker/sequence-based-recommendation/NARM/datasets/run_dataset/amex_explorepoi-poi_category'"
      ]
     },
     "execution_count": 28,
     "metadata": {},
     "output_type": "execute_result"
    }
   ],
   "source": [
    "dataset_path = '/home/ec2-user/SageMaker/sequence-based-recommendation/NARM/datasets/run_dataset/'+args.dataset\n",
    "dataset_path"
   ]
  },
  {
   "cell_type": "code",
   "execution_count": 41,
   "id": "a5366668-1a61-4b6b-8acd-ffa23c4b7977",
   "metadata": {},
   "outputs": [
    {
     "name": "stdout",
     "output_type": "stream",
     "text": [
      "[555, 50, 50, 555] 555\n",
      "[555, 50, 50] 555\n",
      "[555, 50] 50\n",
      "[555] 50\n",
      "[66] 66\n",
      "[480, 480, 265] 265\n"
     ]
    }
   ],
   "source": [
    "with open(os.path.join(dataset_path,\"test.txt\"),\"rb\") as f:\n",
    "    test_set=pickle.load(f)\n",
    "\n",
    "for idx,(x,y) in enumerate(zip(test_set[0],test_set[1])):\n",
    "    if idx<=5:\n",
    "        print(x,y)"
   ]
  },
  {
   "cell_type": "code",
   "execution_count": 44,
   "id": "1540b35e-7df3-4e1a-bb6f-ef2e77d6f2d7",
   "metadata": {},
   "outputs": [
    {
     "name": "stdout",
     "output_type": "stream",
     "text": [
      "[555, 50, 50, 555] 555\n",
      "[555, 50, 50] 555\n",
      "[555, 50] 50\n",
      "[555] 50\n",
      "[66] 66\n",
      "[480, 480, 265] 265\n"
     ]
    }
   ],
   "source": [
    "print(test_set[0][0], test_set[1][0])\n",
    "print(test_set[0][1], test_set[1][1])\n",
    "print(test_set[0][2], test_set[1][2])\n",
    "print(test_set[0][3], test_set[1][3])\n",
    "print(test_set[0][4], test_set[1][4])\n",
    "print(test_set[0][5], test_set[1][5])"
   ]
  },
  {
   "cell_type": "code",
   "execution_count": null,
   "id": "235abb41-6988-4671-b30f-dc3ad302e9b8",
   "metadata": {},
   "outputs": [],
   "source": []
  }
 ],
 "metadata": {
  "kernelspec": {
   "display_name": "test",
   "language": "python",
   "name": "test"
  },
  "language_info": {
   "codemirror_mode": {
    "name": "ipython",
    "version": 3
   },
   "file_extension": ".py",
   "mimetype": "text/x-python",
   "name": "python",
   "nbconvert_exporter": "python",
   "pygments_lexer": "ipython3",
   "version": "3.8.13"
  }
 },
 "nbformat": 4,
 "nbformat_minor": 5
}
