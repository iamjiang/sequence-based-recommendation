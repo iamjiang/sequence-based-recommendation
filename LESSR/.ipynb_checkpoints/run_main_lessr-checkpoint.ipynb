{
 "cells": [
  {
   "cell_type": "code",
   "execution_count": 4,
   "id": "6886a2ad-bcc2-4f1b-a14e-d17b555417de",
   "metadata": {},
   "outputs": [
    {
     "name": "stderr",
     "output_type": "stream",
     "text": [
      "DGL backend not selected or invalid.  Assuming PyTorch for now.\n"
     ]
    },
    {
     "name": "stdout",
     "output_type": "stream",
     "text": [
      "Setting the default backend to \"pytorch\". You can change it in the ~/.dgl/config.json file or export the DGLBACKEND environment variable.  Valid options are: pytorch, mxnet, tensorflow (all lowercase)\n"
     ]
    },
    {
     "ename": "ModuleNotFoundError",
     "evalue": "No module named 'numba'",
     "output_type": "error",
     "traceback": [
      "\u001b[0;31m---------------------------------------------------------------------------\u001b[0m",
      "\u001b[0;31mModuleNotFoundError\u001b[0m                       Traceback (most recent call last)",
      "Cell \u001b[0;32mIn [4], line 7\u001b[0m\n\u001b[1;32m      5\u001b[0m \u001b[38;5;28;01mfrom\u001b[39;00m \u001b[38;5;21;01mtorch\u001b[39;00m\u001b[38;5;21;01m.\u001b[39;00m\u001b[38;5;21;01mutils\u001b[39;00m\u001b[38;5;21;01m.\u001b[39;00m\u001b[38;5;21;01mdata\u001b[39;00m \u001b[38;5;28;01mimport\u001b[39;00m DataLoader, SequentialSampler\n\u001b[1;32m      6\u001b[0m \u001b[38;5;28;01mfrom\u001b[39;00m \u001b[38;5;21;01mlessr\u001b[39;00m \u001b[38;5;28;01mimport\u001b[39;00m LESSR\n\u001b[0;32m----> 7\u001b[0m \u001b[38;5;28;01mfrom\u001b[39;00m \u001b[38;5;21;01mcollate\u001b[39;00m \u001b[38;5;28;01mimport\u001b[39;00m (collate_fn_factory, seq_to_eop_multigraph,\n\u001b[1;32m      8\u001b[0m                                 seq_to_shortcut_graph)\n\u001b[1;32m      9\u001b[0m \u001b[38;5;28;01mfrom\u001b[39;00m \u001b[38;5;21;01mdataset\u001b[39;00m \u001b[38;5;28;01mimport\u001b[39;00m AugmentedDataset, read_dataset\n\u001b[1;32m     10\u001b[0m \u001b[38;5;28;01mfrom\u001b[39;00m \u001b[38;5;21;01mtrain\u001b[39;00m \u001b[38;5;28;01mimport\u001b[39;00m TrainRunner\n",
      "File \u001b[0;32m~/SageMaker/sequence-based-recommendation/LESSR/collate.py:6\u001b[0m\n\u001b[1;32m      4\u001b[0m \u001b[38;5;28;01mimport\u001b[39;00m \u001b[38;5;21;01mdgl\u001b[39;00m\n\u001b[1;32m      5\u001b[0m \u001b[38;5;28;01mimport\u001b[39;00m \u001b[38;5;21;01mpickle\u001b[39;00m\n\u001b[0;32m----> 6\u001b[0m \u001b[38;5;28;01mimport\u001b[39;00m \u001b[38;5;21;01mnumba\u001b[39;00m\n\u001b[1;32m      7\u001b[0m \u001b[38;5;28;01mfrom\u001b[39;00m \u001b[38;5;21;01mnumba\u001b[39;00m \u001b[38;5;28;01mimport\u001b[39;00m jit\n\u001b[1;32m     10\u001b[0m \u001b[38;5;28;01mdef\u001b[39;00m \u001b[38;5;21mlabel_last\u001b[39m(g, last_nid):\n",
      "\u001b[0;31mModuleNotFoundError\u001b[0m: No module named 'numba'"
     ]
    }
   ],
   "source": [
    "import argparse\n",
    "from pathlib import Path\n",
    "\n",
    "import torch as th\n",
    "from torch.utils.data import DataLoader, SequentialSampler\n",
    "from lessr import LESSR\n",
    "from collate import (collate_fn_factory, seq_to_eop_multigraph,\n",
    "                                seq_to_shortcut_graph)\n",
    "from dataset import AugmentedDataset, read_dataset\n",
    "from train import TrainRunner"
   ]
  },
  {
   "cell_type": "code",
   "execution_count": 2,
   "id": "0152b81c-e850-4564-a3b3-f3d533cc0377",
   "metadata": {},
   "outputs": [
    {
     "name": "stdout",
     "output_type": "stream",
     "text": [
      "Namespace(batch_size=512, dataset_dir='/home/ec2-user/SageMaker/sequence-based-recommendation/dataset', embedding_dim=32, epochs=30, feat_drop=0.2, log_interval=100, lr=0.001, num_layers=3, num_workers=0, patience=2, valid_split=None, weight_decay=0.0001)\n"
     ]
    }
   ],
   "source": [
    "parser = argparse.ArgumentParser(formatter_class=argparse.ArgumentDefaultsHelpFormatter)\n",
    "parser.add_argument(\n",
    "    '--dataset-dir', default='/home/ec2-user/SageMaker/sequence-based-recommendation/dataset', help='the dataset directory'\n",
    ")\n",
    "parser.add_argument('--embedding-dim', type=int, default=32, help='the embedding size')\n",
    "parser.add_argument('--num-layers', type=int, default=3, help='the number of layers')\n",
    "parser.add_argument(\n",
    "    '--feat-drop', type=float, default=0.2, help='the dropout ratio for features'\n",
    ")\n",
    "parser.add_argument('--lr', type=float, default=1e-3, help='the learning rate')\n",
    "parser.add_argument(\n",
    "    '--batch-size', type=int, default=512, help='the batch size for training'\n",
    ")\n",
    "parser.add_argument(\n",
    "    '--epochs', type=int, default=30, help='the number of training epochs'\n",
    ")\n",
    "parser.add_argument(\n",
    "    '--weight-decay',\n",
    "    type=float,\n",
    "    default=1e-4,\n",
    "    help='the parameter for L2 regularization',\n",
    ")\n",
    "parser.add_argument(\n",
    "    '--patience',\n",
    "    type=int,\n",
    "    default=2,\n",
    "    help='the number of epochs that the performance does not improves after which the training stops',\n",
    ")\n",
    "parser.add_argument(\n",
    "    '--num-workers',\n",
    "    type=int,\n",
    "    default=0,\n",
    "    help='the number of processes to load the input graphs',\n",
    ")\n",
    "parser.add_argument(\n",
    "    '--valid-split',\n",
    "    type=float,\n",
    "    default=None,\n",
    "    help='the fraction for the validation set',\n",
    ")\n",
    "parser.add_argument(\n",
    "    '--log-interval',\n",
    "    type=int,\n",
    "    default=100,\n",
    "    help='print the loss after this number of iterations',\n",
    ")\n",
    "args,_ = parser.parse_known_args()\n",
    "print(args)\n"
   ]
  },
  {
   "cell_type": "code",
   "execution_count": null,
   "id": "f23bf502-b021-49d9-802b-7ba54aa4d204",
   "metadata": {},
   "outputs": [],
   "source": []
  }
 ],
 "metadata": {
  "kernelspec": {
   "display_name": "test",
   "language": "python",
   "name": "test"
  },
  "language_info": {
   "codemirror_mode": {
    "name": "ipython",
    "version": 3
   },
   "file_extension": ".py",
   "mimetype": "text/x-python",
   "name": "python",
   "nbconvert_exporter": "python",
   "pygments_lexer": "ipython3",
   "version": "3.8.13"
  }
 },
 "nbformat": 4,
 "nbformat_minor": 5
}
