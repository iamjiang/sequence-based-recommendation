{
 "cells": [
  {
   "cell_type": "code",
   "execution_count": 1,
   "id": "6886a2ad-bcc2-4f1b-a14e-d17b555417de",
   "metadata": {},
   "outputs": [
    {
     "name": "stderr",
     "output_type": "stream",
     "text": [
      "/home/ec2-user/anaconda3/envs/lessr/lib/python3.8/site-packages/tqdm/auto.py:22: TqdmWarning: IProgress not found. Please update jupyter and ipywidgets. See https://ipywidgets.readthedocs.io/en/stable/user_install.html\n",
      "  from .autonotebook import tqdm as notebook_tqdm\n",
      "Using backend: pytorch\n"
     ]
    }
   ],
   "source": [
    "import argparse\n",
    "from pathlib import Path\n",
    "\n",
    "import torch as th\n",
    "from torch.utils.data import DataLoader, SequentialSampler\n",
    "from lessr import LESSR\n",
    "from collate import (collate_fn_factory, seq_to_eop_multigraph,\n",
    "                                seq_to_shortcut_graph)\n",
    "from dataset import AugmentedDataset, read_dataset\n",
    "from train import TrainRunner\n"
   ]
  },
  {
   "cell_type": "code",
   "execution_count": null,
   "id": "0152b81c-e850-4564-a3b3-f3d533cc0377",
   "metadata": {},
   "outputs": [],
   "source": [
    "parser = argparse.ArgumentParser(formatter_class=argparse.ArgumentDefaultsHelpFormatter)\n",
    "parser.add_argument(\n",
    "    '--dataset-dir', default='/home/ec2-user/SageMaker/sequence-based-recommendation/dataset', help='the dataset directory'\n",
    ")\n",
    "parser.add_argument('--embedding-dim', type=int, default=32, help='the embedding size')\n",
    "parser.add_argument('--num-layers', type=int, default=3, help='the number of layers')\n",
    "parser.add_argument(\n",
    "    '--feat-drop', type=float, default=0.2, help='the dropout ratio for features'\n",
    ")\n",
    "parser.add_argument('--lr', type=float, default=1e-3, help='the learning rate')\n",
    "parser.add_argument(\n",
    "    '--batch-size', type=int, default=512, help='the batch size for training'\n",
    ")\n",
    "parser.add_argument(\n",
    "    '--epochs', type=int, default=30, help='the number of training epochs'\n",
    ")\n",
    "parser.add_argument(\n",
    "    '--weight-decay',\n",
    "    type=float,\n",
    "    default=1e-4,\n",
    "    help='the parameter for L2 regularization',\n",
    ")\n",
    "parser.add_argument(\n",
    "    '--patience',\n",
    "    type=int,\n",
    "    default=2,\n",
    "    help='the number of epochs that the performance does not improves after which the training stops',\n",
    ")\n",
    "parser.add_argument(\n",
    "    '--num-workers',\n",
    "    type=int,\n",
    "    default=0,\n",
    "    help='the number of processes to load the input graphs',\n",
    ")\n",
    "parser.add_argument(\n",
    "    '--valid-split',\n",
    "    type=float,\n",
    "    default=None,\n",
    "    help='the fraction for the validation set',\n",
    ")\n",
    "parser.add_argument(\n",
    "    '--log-interval',\n",
    "    type=int,\n",
    "    default=100,\n",
    "    help='print the loss after this number of iterations',\n",
    ")\n",
    "args,_ = parser.parse_known_args()\n",
    "print(args)\n"
   ]
  },
  {
   "cell_type": "code",
   "execution_count": null,
   "id": "f23bf502-b021-49d9-802b-7ba54aa4d204",
   "metadata": {},
   "outputs": [],
   "source": []
  }
 ],
 "metadata": {
  "kernelspec": {
   "display_name": "lessr",
   "language": "python",
   "name": "lessr"
  },
  "language_info": {
   "codemirror_mode": {
    "name": "ipython",
    "version": 3
   },
   "file_extension": ".py",
   "mimetype": "text/x-python",
   "name": "python",
   "nbconvert_exporter": "python",
   "pygments_lexer": "ipython3",
   "version": "3.8.12"
  }
 },
 "nbformat": 4,
 "nbformat_minor": 5
}
