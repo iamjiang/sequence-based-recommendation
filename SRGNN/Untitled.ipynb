{
 "cells": [
  {
   "cell_type": "code",
   "execution_count": 7,
   "metadata": {},
   "outputs": [
    {
     "data": {
      "text/plain": [
       "Graph(num_nodes=3, num_edges=3,\n",
       "      ndata_schemes={'h': Scheme(shape=(1,), dtype=torch.float32)}\n",
       "      edata_schemes={'h': Scheme(shape=(1,), dtype=torch.float32)})"
      ]
     },
     "execution_count": 7,
     "metadata": {},
     "output_type": "execute_result"
    }
   ],
   "source": [
    "import dgl\n",
    "import dgl.ops as F\n",
    "import dgl.function as fn\n",
    "import torch as th\n",
    "g = dgl.graph((th.tensor([0, 1, 2]), th.tensor([1, 2, 0])))\n",
    "g.ndata['h'] = th.tensor([[0.], [1.], [2.]])\n",
    "g.edata['h'] = th.tensor([[3.], [4.], [5.]])\n",
    "g"
   ]
  },
  {
   "cell_type": "code",
   "execution_count": 5,
   "metadata": {},
   "outputs": [
    {
     "data": {
      "text/plain": [
       "Graph(num_nodes=3, num_edges=3,\n",
       "      ndata_schemes={'h': Scheme(shape=(1,), dtype=torch.float32)}\n",
       "      edata_schemes={'h': Scheme(shape=(1,), dtype=torch.float32)})"
      ]
     },
     "execution_count": 5,
     "metadata": {},
     "output_type": "execute_result"
    }
   ],
   "source": [
    "rg=dgl.reverse(g,copy_edata=True)\n",
    "rg"
   ]
  },
  {
   "cell_type": "code",
   "execution_count": 12,
   "metadata": {},
   "outputs": [
    {
     "data": {
      "text/plain": [
       "tensor([2, 1])"
      ]
     },
     "execution_count": 12,
     "metadata": {},
     "output_type": "execute_result"
    }
   ],
   "source": [
    "hg1 = dgl.heterograph({\n",
    "      ('user', 'plays', 'game') : (torch.tensor([0, 1]), torch.tensor([0, 0]))})\n",
    "hg2 = dgl.heterograph({\n",
    "      ('user', 'plays', 'game') : (torch.tensor([0, 0]), torch.tensor([1, 0]))})\n",
    "bg = dgl.batch([hg1, hg2])\n",
    "bg.batch_num_nodes('user')"
   ]
  },
  {
   "cell_type": "code",
   "execution_count": null,
   "metadata": {},
   "outputs": [],
   "source": []
  },
  {
   "cell_type": "code",
   "execution_count": 3,
   "metadata": {},
   "outputs": [
    {
     "data": {
      "text/plain": [
       "{'h': tensor([[0.],\n",
       "        [1.],\n",
       "        [2.]])}"
      ]
     },
     "execution_count": 3,
     "metadata": {},
     "output_type": "execute_result"
    }
   ],
   "source": [
    "rg.ndata"
   ]
  },
  {
   "cell_type": "code",
   "execution_count": 1,
   "metadata": {},
   "outputs": [
    {
     "name": "stderr",
     "output_type": "stream",
     "text": [
      "/home/ec2-user/SageMaker/.cs/conda/envs/SRGNN/lib/python3.8/site-packages/tqdm/auto.py:22: TqdmWarning: IProgress not found. Please update jupyter and ipywidgets. See https://ipywidgets.readthedocs.io/en/stable/user_install.html\n",
      "  from .autonotebook import tqdm as notebook_tqdm\n"
     ]
    }
   ],
   "source": [
    "import torch\n",
    "x=torch.randn(10,5)"
   ]
  },
  {
   "cell_type": "code",
   "execution_count": 2,
   "metadata": {},
   "outputs": [
    {
     "data": {
      "text/plain": [
       "tensor([[ 1.2037, -0.4810,  0.3482, -0.1376,  1.0303],\n",
       "        [-1.9557,  0.4084,  0.6478, -1.1810,  1.0980],\n",
       "        [-0.5299,  0.0475, -0.0899, -0.2299, -1.4117],\n",
       "        [-1.5853,  0.2675,  1.2206, -0.0452, -0.0826],\n",
       "        [-0.2812, -0.4648,  0.2507,  0.2640, -0.2663],\n",
       "        [-0.2311,  1.2283,  0.6217,  1.0362,  0.5826],\n",
       "        [-0.3911,  0.0486, -0.7912,  1.5651,  2.4715],\n",
       "        [ 1.3550, -0.9931, -0.7721,  1.5138,  0.5665],\n",
       "        [ 0.0246, -0.9837, -0.2204,  0.9296, -2.3206],\n",
       "        [-0.1285,  2.4950,  0.8063,  0.4360, -1.2972]])"
      ]
     },
     "execution_count": 2,
     "metadata": {},
     "output_type": "execute_result"
    }
   ],
   "source": []
  },
  {
   "cell_type": "code",
   "execution_count": 3,
   "metadata": {},
   "outputs": [
    {
     "data": {
      "text/plain": [
       "tensor([[0.7692, 0.3820, 0.5862, 0.4657, 0.7370],\n",
       "        [0.1239, 0.6007, 0.6565, 0.2349, 0.7499],\n",
       "        [0.3706, 0.5119, 0.4775, 0.4428, 0.1960],\n",
       "        [0.1700, 0.5665, 0.7722, 0.4887, 0.4794],\n",
       "        [0.4302, 0.3858, 0.5624, 0.5656, 0.4338],\n",
       "        [0.4425, 0.7735, 0.6506, 0.7381, 0.6417],\n",
       "        [0.4034, 0.5121, 0.3119, 0.8271, 0.9221],\n",
       "        [0.7949, 0.2703, 0.3160, 0.8196, 0.6379],\n",
       "        [0.5062, 0.2722, 0.4451, 0.7170, 0.0894],\n",
       "        [0.4679, 0.9238, 0.6913, 0.6073, 0.2146]])"
      ]
     },
     "execution_count": 3,
     "metadata": {},
     "output_type": "execute_result"
    }
   ],
   "source": [
    "torch.sigmoid(x)"
   ]
  },
  {
   "cell_type": "code",
   "execution_count": 1,
   "metadata": {},
   "outputs": [
    {
     "data": {
      "text/plain": [
       "['/home/ec2-user/SageMaker/sequence-based-recommendation/SRGNN',\n",
       " '/home/ec2-user/SageMaker/.cs/conda/envs/SRGNN/lib/python38.zip',\n",
       " '/home/ec2-user/SageMaker/.cs/conda/envs/SRGNN/lib/python3.8',\n",
       " '/home/ec2-user/SageMaker/.cs/conda/envs/SRGNN/lib/python3.8/lib-dynload',\n",
       " '',\n",
       " '/home/ec2-user/SageMaker/.cs/conda/envs/SRGNN/lib/python3.8/site-packages']"
      ]
     },
     "execution_count": 1,
     "metadata": {},
     "output_type": "execute_result"
    }
   ],
   "source": [
    "import sys\n",
    "sys.path"
   ]
  },
  {
   "cell_type": "code",
   "execution_count": 3,
   "metadata": {},
   "outputs": [
    {
     "data": {
      "text/plain": [
       "'/home/ec2-user/SageMaker/sequence-based-recommendation/SRGNN'"
      ]
     },
     "execution_count": 3,
     "metadata": {},
     "output_type": "execute_result"
    }
   ],
   "source": [
    "import os\n",
    "root_dir='/home/ec2-user/SageMaker/sequence-based-recommendation'\n",
    "model_name=\"SRGNN\"\n",
    "model_path=os.path.join(root_dir,model_name)\n",
    "model_path"
   ]
  },
  {
   "cell_type": "code",
   "execution_count": 4,
   "metadata": {},
   "outputs": [
    {
     "data": {
      "text/plain": [
       "['/home/ec2-user/SageMaker/sequence-based-recommendation/SRGNN',\n",
       " '/home/ec2-user/SageMaker/.cs/conda/envs/SRGNN/lib/python38.zip',\n",
       " '/home/ec2-user/SageMaker/.cs/conda/envs/SRGNN/lib/python3.8',\n",
       " '/home/ec2-user/SageMaker/.cs/conda/envs/SRGNN/lib/python3.8/lib-dynload',\n",
       " '',\n",
       " '/home/ec2-user/SageMaker/.cs/conda/envs/SRGNN/lib/python3.8/site-packages',\n",
       " '/home/ec2-user/SageMaker/sequence-based-recommendation/SRGNN']"
      ]
     },
     "execution_count": 4,
     "metadata": {},
     "output_type": "execute_result"
    }
   ],
   "source": [
    "sys.path.append(model_path)\n",
    "sys.path"
   ]
  },
  {
   "cell_type": "code",
   "execution_count": 5,
   "metadata": {},
   "outputs": [
    {
     "data": {
      "text/plain": [
       "{'',\n",
       " '/home/ec2-user/SageMaker/.cs/conda/envs/SRGNN/lib/python3.8',\n",
       " '/home/ec2-user/SageMaker/.cs/conda/envs/SRGNN/lib/python3.8/lib-dynload',\n",
       " '/home/ec2-user/SageMaker/.cs/conda/envs/SRGNN/lib/python3.8/site-packages',\n",
       " '/home/ec2-user/SageMaker/.cs/conda/envs/SRGNN/lib/python38.zip',\n",
       " '/home/ec2-user/SageMaker/sequence-based-recommendation/SRGNN'}"
      ]
     },
     "execution_count": 5,
     "metadata": {},
     "output_type": "execute_result"
    }
   ],
   "source": [
    "set(sys.path)"
   ]
  },
  {
   "cell_type": "code",
   "execution_count": 6,
   "metadata": {},
   "outputs": [
    {
     "data": {
      "text/plain": [
       "['',\n",
       " '/home/ec2-user/SageMaker/sequence-based-recommendation/SRGNN',\n",
       " '/home/ec2-user/SageMaker/.cs/conda/envs/SRGNN/lib/python3.8',\n",
       " '/home/ec2-user/SageMaker/.cs/conda/envs/SRGNN/lib/python38.zip',\n",
       " '/home/ec2-user/SageMaker/.cs/conda/envs/SRGNN/lib/python3.8/lib-dynload',\n",
       " '/home/ec2-user/SageMaker/.cs/conda/envs/SRGNN/lib/python3.8/site-packages']"
      ]
     },
     "execution_count": 6,
     "metadata": {},
     "output_type": "execute_result"
    }
   ],
   "source": [
    "sys.path=list(set(sys.path))\n",
    "sys.path"
   ]
  },
  {
   "cell_type": "code",
   "execution_count": 7,
   "metadata": {},
   "outputs": [
    {
     "data": {
      "text/plain": [
       "['',\n",
       " '/home/ec2-user/SageMaker/.cs/conda/envs/SRGNN/lib/python3.8',\n",
       " '/home/ec2-user/SageMaker/.cs/conda/envs/SRGNN/lib/python38.zip',\n",
       " '/home/ec2-user/SageMaker/.cs/conda/envs/SRGNN/lib/python3.8/lib-dynload',\n",
       " '/home/ec2-user/SageMaker/.cs/conda/envs/SRGNN/lib/python3.8/site-packages']"
      ]
     },
     "execution_count": 7,
     "metadata": {},
     "output_type": "execute_result"
    }
   ],
   "source": [
    "sys.path=[x for x in sys.path if x !=model_path]\n",
    "sys.path"
   ]
  },
  {
   "cell_type": "code",
   "execution_count": null,
   "metadata": {},
   "outputs": [],
   "source": []
  }
 ],
 "metadata": {
  "kernelspec": {
   "display_name": "SRGNN",
   "language": "python",
   "name": "srgnn"
  },
  "language_info": {
   "codemirror_mode": {
    "name": "ipython",
    "version": 3
   },
   "file_extension": ".py",
   "mimetype": "text/x-python",
   "name": "python",
   "nbconvert_exporter": "python",
   "pygments_lexer": "ipython3",
   "version": "3.8.12"
  },
  "vscode": {
   "interpreter": {
    "hash": "00e4787372b5b2048923b123daa096330efcc5ff925c046928bc65d34a5b450a"
   }
  }
 },
 "nbformat": 4,
 "nbformat_minor": 4
}
