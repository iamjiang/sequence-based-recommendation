{
 "cells": [
  {
   "cell_type": "code",
   "execution_count": 1,
   "id": "2f08f45b-73c8-4071-9529-08434f3c02e4",
   "metadata": {},
   "outputs": [],
   "source": [
    "import time\n",
    "import csv\n",
    "import pickle\n",
    "import operator\n",
    "import datetime\n",
    "import os\n",
    "from tqdm import tqdm"
   ]
  },
  {
   "cell_type": "code",
   "execution_count": 2,
   "id": "187d641c-6b71-4456-9da6-98c149b2844b",
   "metadata": {},
   "outputs": [],
   "source": [
    "def example(data):\n",
    "    Y=[]\n",
    "    with open(data, 'r') as fn:\n",
    "        for ix,line in enumerate(fn):\n",
    "            if ix<=5:\n",
    "                Y.append(line.strip(\"\\n\"))\n",
    "    \n",
    "    return Y"
   ]
  },
  {
   "cell_type": "code",
   "execution_count": 3,
   "id": "a34ed2f9-e2c7-4226-9c5a-9b3f5b7bdbaf",
   "metadata": {},
   "outputs": [
    {
     "data": {
      "text/plain": [
       "['sessionId,timestamp,itemId,category',\n",
       " '1,2014-04-07T10:51:09.277Z,214536502,0',\n",
       " '1,2014-04-07T10:54:09.868Z,214536500,0',\n",
       " '1,2014-04-07T10:54:46.998Z,214536506,0',\n",
       " '1,2014-04-07T10:57:00.306Z,214577561,0',\n",
       " '2,2014-04-07T13:56:37.614Z,214662742,0']"
      ]
     },
     "execution_count": 3,
     "metadata": {},
     "output_type": "execute_result"
    }
   ],
   "source": [
    "dataset_path = '/home/ec2-user/SageMaker/sequence-based-recommendation/YOOCHOOSE_data'\n",
    "# yoochoose-clicks\n",
    "with open(os.path.join(dataset_path,'yoochoose-clicks.dat'), 'r') as f, open(os.path.join(dataset_path,'yoochoose-clicks-withHeader.dat'), 'w') as fn:\n",
    "    fn.write('sessionId,timestamp,itemId,category'+'\\n')\n",
    "    for line in f:\n",
    "        fn.write(line) \n",
    "        \n",
    "example('yoochoose-clicks-withHeader.dat')"
   ]
  },
  {
   "cell_type": "code",
   "execution_count": 4,
   "id": "6459cc4f-c026-42d7-8fd4-9a9c6a99c52b",
   "metadata": {},
   "outputs": [
    {
     "data": {
      "text/plain": [
       "['sessionId,timestamp,itemId,price,quantity',\n",
       " '420374,2014-04-06T18:44:58.314Z,214537888,12462,1',\n",
       " '420374,2014-04-06T18:44:58.325Z,214537850,10471,1',\n",
       " '281626,2014-04-06T09:40:13.032Z,214535653,1883,1',\n",
       " '420368,2014-04-04T06:13:28.848Z,214530572,6073,1',\n",
       " '420368,2014-04-04T06:13:28.858Z,214835025,2617,1']"
      ]
     },
     "execution_count": 4,
     "metadata": {},
     "output_type": "execute_result"
    }
   ],
   "source": [
    "## yoochoose-clicks\n",
    "with open(os.path.join(dataset_path,'yoochoose-buys.dat'), 'r') as f, open(os.path.join(dataset_path,'yoochoose-buys-withHeader.dat'), 'w') as fn:\n",
    "    fn.write('sessionId,timestamp,itemId,price,quantity'+'\\n')\n",
    "    for line in f:\n",
    "        fn.write(line) \n",
    "        \n",
    "example('yoochoose-buys-withHeader.dat')"
   ]
  },
  {
   "cell_type": "code",
   "execution_count": 5,
   "id": "a155d2ec-3872-4a71-bf00-8f94ea4cf418",
   "metadata": {},
   "outputs": [
    {
     "data": {
      "text/plain": [
       "['sessionId,timestamp,itemId,category',\n",
       " '5,2014-04-07T17:13:46.713Z,214530776,0',\n",
       " '5,2014-04-07T17:20:56.973Z,214530776,0',\n",
       " '5,2014-04-07T17:21:19.602Z,214530776,0',\n",
       " '10,2014-04-04T07:44:14.590Z,214820942,0',\n",
       " '10,2014-04-04T07:45:20.245Z,214826810,0']"
      ]
     },
     "execution_count": 5,
     "metadata": {},
     "output_type": "execute_result"
    }
   ],
   "source": [
    "## yoochoose-clicks\n",
    "with open(os.path.join(dataset_path,'yoochoose-test.dat'), 'r') as f, open(os.path.join(dataset_path,'yoochoose-test-withHeader.dat'), 'w') as fn:\n",
    "    fn.write('sessionId,timestamp,itemId,category'+'\\n')\n",
    "    for line in f:\n",
    "        fn.write(line) \n",
    "        \n",
    "example('yoochoose-test-withHeader.dat')"
   ]
  },
  {
   "cell_type": "code",
   "execution_count": 6,
   "id": "9d5374cb-4aa8-4f93-8bb0-455f8425ba5d",
   "metadata": {},
   "outputs": [
    {
     "name": "stderr",
     "output_type": "stream",
     "text": [
      "100%|█████████▉| 33003944/33003945 [03:50<00:00, 142923.21it/s]\n"
     ]
    }
   ],
   "source": [
    "dataset = os.path.join(dataset_path,'yoochoose-clicks-withHeader.dat')\n",
    "\n",
    "with open(dataset, \"r\") as f:\n",
    "    total_rows=sum(1 for line in f)\n",
    "    \n",
    "with open(dataset, \"r\") as f:\n",
    "    reader = csv.DictReader(f, delimiter=',')\n",
    "    sess_clicks = {}\n",
    "    sess_date = {}\n",
    "    ctr = 0\n",
    "    curid = -1\n",
    "    curdate = None\n",
    "    \n",
    "    for data in tqdm(reader,total=total_rows,leave=True,position=0):\n",
    "        sessid = data['sessionId']\n",
    "        if curdate and not curid == sessid:\n",
    "            date = ''\n",
    "            date = time.mktime(time.strptime(curdate[:19], '%Y-%m-%dT%H:%M:%S'))\n",
    "            sess_date[curid] = date\n",
    "        curid = sessid\n",
    "        item = data['itemId']\n",
    "        curdate = ''\n",
    "        curdate = data['timestamp']\n",
    "\n",
    "        if sessid in sess_clicks:\n",
    "            sess_clicks[sessid] += [item]\n",
    "        else:\n",
    "            sess_clicks[sessid] = [item]\n",
    "        ctr += 1\n",
    "    date = ''\n",
    "    date = time.mktime(time.strptime(curdate[:19], '%Y-%m-%dT%H:%M:%S'))\n",
    "    sess_date[curid] = date"
   ]
  },
  {
   "cell_type": "code",
   "execution_count": 7,
   "id": "c5782e9e-4ba4-4a33-9be1-296f1003a099",
   "metadata": {},
   "outputs": [
    {
     "name": "stdout",
     "output_type": "stream",
     "text": [
      "Before filtering out          9,249,729           \n",
      "After filtering out           7,990,018           \n"
     ]
    }
   ],
   "source": [
    "# Filter out length 1 sessions\n",
    "print(\"{:<30}{:<20,}\".format(\"Before filtering out\", len(sess_clicks)))\n",
    "for s in list(sess_clicks):\n",
    "    if len(sess_clicks[s]) == 1:\n",
    "        del sess_clicks[s]\n",
    "        del sess_date[s]\n",
    "\n",
    "print(\"{:<30}{:<20,}\".format(\"After filtering out\", len(sess_clicks)))"
   ]
  },
  {
   "cell_type": "code",
   "execution_count": 8,
   "id": "a2537274-66e2-4319-95a8-2960754d590b",
   "metadata": {},
   "outputs": [
    {
     "name": "stdout",
     "output_type": "stream",
     "text": [
      "Before filtering out          7,990,018           \n",
      "After filtering out           7,981,581           \n"
     ]
    }
   ],
   "source": [
    "# Count number of times each item appears\n",
    "iid_counts = {}\n",
    "for s in sess_clicks:\n",
    "    seq = sess_clicks[s]\n",
    "    for iid in seq:\n",
    "        if iid in iid_counts:\n",
    "            iid_counts[iid] += 1\n",
    "        else:\n",
    "            iid_counts[iid] = 1\n",
    "\n",
    "sorted_counts = sorted(iid_counts.items(), key=operator.itemgetter(1))\n",
    "\n",
    "length = len(sess_clicks)\n",
    "print(\"{:<30}{:<20,}\".format(\"Before filtering out\", len(sess_clicks)))\n",
    "\n",
    "for s in list(sess_clicks):\n",
    "    curseq = sess_clicks[s]\n",
    "    filseq = list(filter(lambda i: iid_counts[i] >= 5, curseq))\n",
    "    if len(filseq) < 2:\n",
    "        del sess_clicks[s]\n",
    "        del sess_date[s]\n",
    "    else:\n",
    "        sess_clicks[s] = filseq\n",
    "        \n",
    "print(\"{:<30}{:<20,}\".format(\"After filtering out\", len(sess_clicks)))"
   ]
  },
  {
   "cell_type": "code",
   "execution_count": 9,
   "id": "2227db61-2351-4199-b7bb-08ac81e65632",
   "metadata": {},
   "outputs": [
    {
     "name": "stdout",
     "output_type": "stream",
     "text": [
      "Splitting date 1411959599.0\n",
      "7966257\n",
      "15324\n",
      "[('171168', 1396321232.0), ('345618', 1396321275.0), ('263073', 1396321302.0)]\n",
      "[('11532683', 1411959653.0), ('11464959', 1411959671.0), ('11296119', 1411959695.0)]\n"
     ]
    }
   ],
   "source": [
    "# Split out test set based on dates\n",
    "dates = list(sess_date.items())\n",
    "maxdate = dates[0][1]\n",
    "\n",
    "for _, date in dates:\n",
    "    if maxdate < date:\n",
    "        maxdate = date\n",
    "\n",
    "# 7 days for test\n",
    "splitdate = 0\n",
    "splitdate = maxdate - 86400 * 1  # the number of seconds for a day：86400\n",
    "\n",
    "print('Splitting date', splitdate)      # Yoochoose: ('Split date', 1411930799.0)\n",
    "tra_sess = filter(lambda x: x[1] < splitdate, dates)\n",
    "tes_sess = filter(lambda x: x[1] > splitdate, dates)\n",
    "\n",
    "# Sort sessions by date\n",
    "tra_sess = sorted(tra_sess, key=operator.itemgetter(1))     # [(sessionId, timestamp), (), ]\n",
    "tes_sess = sorted(tes_sess, key=operator.itemgetter(1))     # [(sessionId, timestamp), (), ]\n",
    "print(len(tra_sess))    # 186670    # 7966257\n",
    "print(len(tes_sess))    # 15979     # 15324\n",
    "print(tra_sess[:3])\n",
    "print(tes_sess[:3])"
   ]
  },
  {
   "cell_type": "code",
   "execution_count": 10,
   "id": "2fbfe055-08ae-48c5-bd1c-c3c70968db65",
   "metadata": {},
   "outputs": [
    {
     "name": "stderr",
     "output_type": "stream",
     "text": [
      "100%|██████████| 7966257/7966257 [00:38<00:00, 209074.23it/s]\n"
     ]
    },
    {
     "name": "stdout",
     "output_type": "stream",
     "text": [
      "37484\n"
     ]
    },
    {
     "name": "stderr",
     "output_type": "stream",
     "text": [
      "100%|██████████| 15324/15324 [00:00<00:00, 332985.43it/s]\n"
     ]
    }
   ],
   "source": [
    "# Choosing item count >=5 gives approximately the same number of items as reported in paper\n",
    "item_dict = {}\n",
    "# Convert training sessions to sequences and renumber items to start from 1\n",
    "def obtian_tra():\n",
    "    train_ids = []\n",
    "    train_seqs = []\n",
    "    train_dates = []\n",
    "    item_ctr = 1\n",
    "    for s, date in tqdm(tra_sess,total=len(tra_sess),leave=True,position=0):\n",
    "        seq = sess_clicks[s]\n",
    "        outseq = []\n",
    "        for i in seq:\n",
    "            if i in item_dict:\n",
    "                outseq += [item_dict[i]]\n",
    "            else:\n",
    "                outseq += [item_ctr]\n",
    "                item_dict[i] = item_ctr\n",
    "                item_ctr += 1\n",
    "        if len(outseq) < 2:  # Doesn't occur\n",
    "            continue\n",
    "        train_ids += [s]\n",
    "        train_dates += [date]\n",
    "        train_seqs += [outseq]\n",
    "    print(item_ctr)     # 43098, 37484\n",
    "    return train_ids, train_dates, train_seqs\n",
    "\n",
    "# Convert test sessions to sequences, ignoring items that do not appear in training set\n",
    "def obtian_tes():\n",
    "    test_ids = []\n",
    "    test_seqs = []\n",
    "    test_dates = []\n",
    "    for s, date in tqdm(tes_sess,total=len(tes_sess),leave=True,position=0):\n",
    "        seq = sess_clicks[s]\n",
    "        outseq = []\n",
    "        for i in seq:\n",
    "            if i in item_dict:\n",
    "                outseq += [item_dict[i]]\n",
    "        if len(outseq) < 2:\n",
    "            continue\n",
    "        test_ids += [s]\n",
    "        test_dates += [date]\n",
    "        test_seqs += [outseq]\n",
    "    return test_ids, test_dates, test_seqs\n",
    "\n",
    "\n",
    "tra_ids, tra_dates, tra_seqs = obtian_tra()\n",
    "tes_ids, tes_dates, tes_seqs = obtian_tes()\n"
   ]
  },
  {
   "cell_type": "code",
   "execution_count": 11,
   "id": "898baab9-4a8a-451c-b817-39cbf4896440",
   "metadata": {},
   "outputs": [
    {
     "name": "stdout",
     "output_type": "stream",
     "text": [
      "23670982\n",
      "55898\n",
      "[[1], [3], [5, 5]] [1396321232.0, 1396321275.0, 1396321302.0] [2, 4, 5]\n",
      "[[33611, 37169, 6409], [33611, 37169], [33611]] [1411959653.0, 1411959653.0, 1411959653.0] [33128, 6409, 37169]\n"
     ]
    }
   ],
   "source": [
    "def process_seqs(iseqs, idates):\n",
    "    out_seqs = []\n",
    "    out_dates = []\n",
    "    labs = []\n",
    "    ids = []\n",
    "    for id, seq, date in zip(range(len(iseqs)), iseqs, idates):\n",
    "        for i in range(1, len(seq)):\n",
    "            tar = seq[-i]\n",
    "            labs += [tar]\n",
    "            out_seqs += [seq[:-i]]\n",
    "            out_dates += [date]\n",
    "            ids += [id]\n",
    "    return out_seqs, out_dates, labs, ids\n",
    "\n",
    "\n",
    "tr_seqs, tr_dates, tr_labs, tr_ids = process_seqs(tra_seqs, tra_dates)\n",
    "te_seqs, te_dates, te_labs, te_ids = process_seqs(tes_seqs, tes_dates)\n",
    "tra = (tr_seqs, tr_labs)\n",
    "tes = (te_seqs, te_labs)\n",
    "print(len(tr_seqs))\n",
    "print(len(te_seqs))\n",
    "print(tr_seqs[:3], tr_dates[:3], tr_labs[:3])\n",
    "print(te_seqs[:3], te_dates[:3], te_labs[:3])"
   ]
  },
  {
   "cell_type": "code",
   "execution_count": 12,
   "id": "c62f1cee-efed-484a-9905-f7ced309e21a",
   "metadata": {},
   "outputs": [
    {
     "name": "stdout",
     "output_type": "stream",
     "text": [
      "avg length:  3.9727042800167034\n"
     ]
    }
   ],
   "source": [
    "all = 0\n",
    "\n",
    "for seq in tra_seqs:\n",
    "    all += len(seq)\n",
    "for seq in tes_seqs:\n",
    "    all += len(seq)\n",
    "print('avg length: ', all/(len(tra_seqs) + len(tes_seqs) * 1.0))"
   ]
  },
  {
   "cell_type": "code",
   "execution_count": 13,
   "id": "ccfb9116-a361-48e6-9f0a-49ff3d6bd5fb",
   "metadata": {},
   "outputs": [],
   "source": [
    "if not os.path.exists('yoochoose1_4'):\n",
    "    os.makedirs('yoochoose1_4')\n",
    "if not os.path.exists('yoochoose1_64'):\n",
    "    os.makedirs('yoochoose1_64')\n",
    "pickle.dump(tes, open('yoochoose1_4/test.txt', 'wb'))\n",
    "pickle.dump(tes, open('yoochoose1_64/test.txt', 'wb'))\n",
    "\n",
    "pickle.dump(tes_seqs, open('yoochoose1_4/all_test_seq.txt', 'wb'))\n",
    "pickle.dump(tes_seqs, open('yoochoose1_64/all_test_seq.txt', 'wb'))"
   ]
  },
  {
   "cell_type": "code",
   "execution_count": 14,
   "id": "b288833d-a9bd-4a49-82af-d923488eb107",
   "metadata": {},
   "outputs": [
    {
     "name": "stdout",
     "output_type": "stream",
     "text": [
      "5917745\n",
      "369859\n"
     ]
    }
   ],
   "source": [
    "split4, split64 = int(len(tr_seqs) / 4), int(len(tr_seqs) / 64)\n",
    "print(len(tr_seqs[-split4:]))\n",
    "print(len(tr_seqs[-split64:]))\n",
    "\n",
    "tra4, tra64 = (tr_seqs[-split4:], tr_labs[-split4:]), (tr_seqs[-split64:], tr_labs[-split64:])\n",
    "seq4, seq64 = tra_seqs[tr_ids[-split4]:], tra_seqs[tr_ids[-split64]:]\n",
    "\n",
    "pickle.dump(tra4, open('yoochoose1_4/train.txt', 'wb'))\n",
    "pickle.dump(seq4, open('yoochoose1_4/all_train_seq.txt', 'wb'))\n",
    "\n",
    "pickle.dump(tra64, open('yoochoose1_64/train.txt', 'wb'))\n",
    "pickle.dump(seq64, open('yoochoose1_64/all_train_seq.txt', 'wb'))"
   ]
  },
  {
   "cell_type": "code",
   "execution_count": null,
   "id": "2e3a3fba-f1d8-4a64-8b68-8f38ca22595c",
   "metadata": {},
   "outputs": [],
   "source": []
  },
  {
   "cell_type": "code",
   "execution_count": null,
   "id": "1a9f83e4-ec9d-4790-b8da-1e7052b3182f",
   "metadata": {},
   "outputs": [],
   "source": []
  }
 ],
 "metadata": {
  "kernelspec": {
   "display_name": "msgifsr",
   "language": "python",
   "name": "msgifsr"
  },
  "language_info": {
   "codemirror_mode": {
    "name": "ipython",
    "version": 3
   },
   "file_extension": ".py",
   "mimetype": "text/x-python",
   "name": "python",
   "nbconvert_exporter": "python",
   "pygments_lexer": "ipython3",
   "version": "3.8.12"
  }
 },
 "nbformat": 4,
 "nbformat_minor": 5
}
