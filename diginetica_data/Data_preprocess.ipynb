{
 "cells": [
  {
   "cell_type": "code",
   "execution_count": 1,
   "id": "2f08f45b-73c8-4071-9529-08434f3c02e4",
   "metadata": {},
   "outputs": [],
   "source": [
    "import time\n",
    "import csv\n",
    "import pickle\n",
    "import operator\n",
    "import datetime\n",
    "import os\n",
    "from tqdm import tqdm\n",
    "import pandas as pd"
   ]
  },
  {
   "cell_type": "code",
   "execution_count": 3,
   "id": "c7a4cb7b-abc5-4c7c-850d-080c6a6ba802",
   "metadata": {},
   "outputs": [
    {
     "data": {
      "text/plain": [
       "['.ipynb_checkpoints', 'train-item-views.csv', 'Data_preprocess.ipynb']"
      ]
     },
     "execution_count": 3,
     "metadata": {},
     "output_type": "execute_result"
    }
   ],
   "source": [
    "os.listdir()"
   ]
  },
  {
   "cell_type": "code",
   "execution_count": 4,
   "id": "3fa435e7-7c0a-4f1e-97b7-f12125a52a48",
   "metadata": {},
   "outputs": [
    {
     "data": {
      "text/html": [
       "<div>\n",
       "<style scoped>\n",
       "    .dataframe tbody tr th:only-of-type {\n",
       "        vertical-align: middle;\n",
       "    }\n",
       "\n",
       "    .dataframe tbody tr th {\n",
       "        vertical-align: top;\n",
       "    }\n",
       "\n",
       "    .dataframe thead th {\n",
       "        text-align: right;\n",
       "    }\n",
       "</style>\n",
       "<table border=\"1\" class=\"dataframe\">\n",
       "  <thead>\n",
       "    <tr style=\"text-align: right;\">\n",
       "      <th></th>\n",
       "      <th>sessionId;userId;itemId;timeframe;eventdate</th>\n",
       "    </tr>\n",
       "  </thead>\n",
       "  <tbody>\n",
       "    <tr>\n",
       "      <th>0</th>\n",
       "      <td>1;NA;81766;526309;2016-05-09</td>\n",
       "    </tr>\n",
       "    <tr>\n",
       "      <th>1</th>\n",
       "      <td>1;NA;31331;1031018;2016-05-09</td>\n",
       "    </tr>\n",
       "  </tbody>\n",
       "</table>\n",
       "</div>"
      ],
      "text/plain": [
       "  sessionId;userId;itemId;timeframe;eventdate\n",
       "0                1;NA;81766;526309;2016-05-09\n",
       "1               1;NA;31331;1031018;2016-05-09"
      ]
     },
     "execution_count": 4,
     "metadata": {},
     "output_type": "execute_result"
    }
   ],
   "source": [
    "df=pd.read_csv(\"train-item-views.csv\")\n",
    "df.head(2)"
   ]
  },
  {
   "cell_type": "code",
   "execution_count": 5,
   "id": "187d641c-6b71-4456-9da6-98c149b2844b",
   "metadata": {},
   "outputs": [],
   "source": [
    "def example(data):\n",
    "    Y=[]\n",
    "    with open(data, 'r') as fn:\n",
    "        for ix,line in enumerate(fn):\n",
    "            if ix<=5:\n",
    "                Y.append(line.strip(\"\\n\"))\n",
    "    \n",
    "    return Y"
   ]
  },
  {
   "cell_type": "code",
   "execution_count": 7,
   "id": "bbcd49ae-a585-4106-a24e-68754d37f38f",
   "metadata": {},
   "outputs": [
    {
     "data": {
      "text/plain": [
       "['sessionId;userId;itemId;timeframe;eventdate',\n",
       " '1;NA;81766;526309;2016-05-09',\n",
       " '1;NA;31331;1031018;2016-05-09',\n",
       " '1;NA;32118;243569;2016-05-09',\n",
       " '1;NA;9654;75848;2016-05-09',\n",
       " '1;NA;32627;1112408;2016-05-09']"
      ]
     },
     "execution_count": 7,
     "metadata": {},
     "output_type": "execute_result"
    }
   ],
   "source": [
    "with open(os.path.join(os.getcwd(),'train-item-views.csv'), 'r') as f, open(os.path.join(os.getcwd(),'diginetica-clicks-withHeader.dat'), 'w') as fn:\n",
    "    # fn.write('sessionId,userId,itemId,timestamp,eventdate'+'\\n')\n",
    "    for line in f:\n",
    "        fn.write(line) \n",
    "        \n",
    "example('diginetica-clicks-withHeader.dat')"
   ]
  },
  {
   "cell_type": "code",
   "execution_count": 10,
   "id": "f41ca018-efd1-4c73-a8cd-085bdf9e59a5",
   "metadata": {},
   "outputs": [
    {
     "data": {
      "text/plain": [
       "'diginetica'"
      ]
     },
     "execution_count": 10,
     "metadata": {},
     "output_type": "execute_result"
    }
   ],
   "source": [
    "dataset = os.path.join(os.getcwd(),'diginetica-clicks-withHeader.dat')\n",
    "dataset.split(\"/\")[-1].split(\"-\")[0]"
   ]
  },
  {
   "cell_type": "code",
   "execution_count": 17,
   "id": "9d5374cb-4aa8-4f93-8bb0-455f8425ba5d",
   "metadata": {},
   "outputs": [
    {
     "name": "stderr",
     "output_type": "stream",
     "text": [
      "100%|█████████▉| 1235380/1235381 [00:07<00:00, 156898.97it/s]\n"
     ]
    }
   ],
   "source": [
    "dataset = os.path.join(os.getcwd(),'diginetica-clicks-withHeader.dat')\n",
    "data_name=dataset.split(\"/\")[-1].split(\"-\")[0]\n",
    "\n",
    "preprocess_output_log = dict({'dataset name':  data_name})\n",
    "\n",
    "with open(dataset, \"r\") as f:\n",
    "    total_rows=sum(1 for line in f)\n",
    "    \n",
    "with open(dataset, \"r\") as f:\n",
    "    if data_name == 'yoochoose':\n",
    "        reader = csv.DictReader(f, delimiter=',')\n",
    "    else:\n",
    "        reader = csv.DictReader(f, delimiter=';')\n",
    "        \n",
    "    sess_clicks = {}\n",
    "    sess_date = {}\n",
    "    ctr = 0\n",
    "    curid = -1\n",
    "    curdate = None\n",
    "    \n",
    "    for data in tqdm(reader,total=total_rows,leave=True,position=0):\n",
    "        sessid = data['sessionId']\n",
    "        if curdate and not curid == sessid:\n",
    "            date = ''\n",
    "            if data_name == 'yoochoose':\n",
    "                date = time.mktime(time.strptime(curdate[:19], '%Y-%m-%dT%H:%M:%S'))\n",
    "            else:\n",
    "                date = time.mktime(time.strptime(curdate, '%Y-%m-%d'))\n",
    "            sess_date[curid] = date\n",
    "        curid = sessid\n",
    "        if data_name == 'yoochoose':\n",
    "            item = data['itemId']\n",
    "        else:\n",
    "            item = data['itemId'], int(data['timeframe'])\n",
    "        curdate = ''\n",
    "        if data_name == 'yoochoose':\n",
    "            curdate = data['timestamp']\n",
    "        else:\n",
    "            curdate = data['eventdate']\n",
    "\n",
    "        if sessid in sess_clicks:\n",
    "            sess_clicks[sessid] += [item]\n",
    "        else:\n",
    "            sess_clicks[sessid] = [item]\n",
    "        ctr += 1\n",
    "    date = ''\n",
    "    if data_name == 'yoochoose':\n",
    "        date = time.mktime(time.strptime(curdate[:19], '%Y-%m-%dT%H:%M:%S'))\n",
    "    else:\n",
    "        date = time.mktime(time.strptime(curdate, '%Y-%m-%d'))\n",
    "        for i in list(sess_clicks):\n",
    "            sorted_clicks = sorted(sess_clicks[i], key=operator.itemgetter(1))\n",
    "            sess_clicks[i] = [c[0] for c in sorted_clicks]\n",
    "    sess_date[curid] = date"
   ]
  },
  {
   "cell_type": "code",
   "execution_count": 18,
   "id": "c5782e9e-4ba4-4a33-9be1-296f1003a099",
   "metadata": {},
   "outputs": [
    {
     "name": "stdout",
     "output_type": "stream",
     "text": [
      "Before filtering out          310,324             \n",
      "After filtering out           219,630             \n"
     ]
    }
   ],
   "source": [
    "# Filter out length 1 sessions\n",
    "len1_sessions_filtered_count = 0 \n",
    "print(\"{:<30}{:<20,}\".format(\"Before filtering out\", len(sess_clicks)))\n",
    "for s in list(sess_clicks):\n",
    "    if len(sess_clicks[s]) == 1:\n",
    "        len1_sessions_filtered_count += 1\n",
    "        del sess_clicks[s]\n",
    "        del sess_date[s]\n",
    "\n",
    "print(\"{:<30}{:<20,}\".format(\"After filtering out\", len(sess_clicks)))\n",
    "preprocess_output_log['length 1 sessions filtered'] = len1_sessions_filtered_count"
   ]
  },
  {
   "cell_type": "code",
   "execution_count": 19,
   "id": "3d900dd0-d979-4521-9784-e60d9e384e70",
   "metadata": {},
   "outputs": [
    {
     "data": {
      "text/plain": [
       "{'dataset name': 'diginetica', 'length 1 sessions filtered': 90694}"
      ]
     },
     "execution_count": 19,
     "metadata": {},
     "output_type": "execute_result"
    }
   ],
   "source": [
    "preprocess_output_log"
   ]
  },
  {
   "cell_type": "code",
   "execution_count": 20,
   "id": "a2537274-66e2-4319-95a8-2960754d590b",
   "metadata": {},
   "outputs": [
    {
     "name": "stdout",
     "output_type": "stream",
     "text": [
      "Before filtering out          219,630             \n",
      "After filtering out           204,789             \n"
     ]
    }
   ],
   "source": [
    "# Count number of times each item appears\n",
    "iid_counts = {}\n",
    "for s in sess_clicks:\n",
    "    seq = sess_clicks[s]\n",
    "    for iid in seq:\n",
    "        if iid in iid_counts:\n",
    "            iid_counts[iid] += 1\n",
    "        else:\n",
    "            iid_counts[iid] = 1\n",
    "\n",
    "sorted_counts = sorted(iid_counts.items(), key=operator.itemgetter(1))\n",
    "\n",
    "length = len(sess_clicks)\n",
    "print(\"{:<30}{:<20,}\".format(\"Before filtering out\", len(sess_clicks)))\n",
    "\n",
    "for s in list(sess_clicks):\n",
    "    curseq = sess_clicks[s]\n",
    "    filseq = list(filter(lambda i: iid_counts[i] >= 5, curseq))\n",
    "    if len(filseq) < 2:\n",
    "        del sess_clicks[s]\n",
    "        del sess_date[s]\n",
    "    else:\n",
    "        sess_clicks[s] = filseq\n",
    "        \n",
    "print(\"{:<30}{:<20,}\".format(\"After filtering out\", len(sess_clicks)))"
   ]
  },
  {
   "cell_type": "code",
   "execution_count": 22,
   "id": "2227db61-2351-4199-b7bb-08ac81e65632",
   "metadata": {},
   "outputs": [
    {
     "name": "stdout",
     "output_type": "stream",
     "text": [
      "Splitting date 1464134400.0\n",
      "186670\n",
      "15979\n",
      "[('4737', 1451606400.0), ('4741', 1451606400.0), ('4742', 1451606400.0)]\n",
      "[('289', 1464220800.0), ('290', 1464220800.0), ('302', 1464220800.0)]\n"
     ]
    }
   ],
   "source": [
    "# Split out test set based on dates\n",
    "dates = list(sess_date.items())\n",
    "maxdate = dates[0][1]\n",
    "\n",
    "for _, date in dates:\n",
    "    if maxdate < date:\n",
    "        maxdate = date\n",
    "preprocess_output_log['max date'] = maxdate\n",
    "\n",
    "# 7 days for test\n",
    "if data_name == 'yoochoose':\n",
    "    splitdate = maxdate - 86400 * 1  #the number of seconds for a day：86400\n",
    "# elif args.dataset in amex_sets: \n",
    "#     splitdate = maxdate - 86400 * amex_splitdate #chosen to be 6 days?\n",
    "else:\n",
    "    splitdate = maxdate - 86400 * 7 \n",
    "\n",
    "print('Splitting date', splitdate)      # Yoochoose: ('Split date', 1411930799.0)\n",
    "tra_sess = filter(lambda x: x[1] < splitdate, dates)\n",
    "tes_sess = filter(lambda x: x[1] > splitdate, dates)\n",
    "\n",
    "# Sort sessions by date\n",
    "tra_sess = sorted(tra_sess, key=operator.itemgetter(1))     # [(sessionId, timestamp), (), ]\n",
    "tes_sess = sorted(tes_sess, key=operator.itemgetter(1))     # [(sessionId, timestamp), (), ]\n",
    "print(len(tra_sess))    # 186670    # 7966257\n",
    "print(len(tes_sess))    # 15979     # 15324\n",
    "print(tra_sess[:3])\n",
    "print(tes_sess[:3])"
   ]
  },
  {
   "cell_type": "code",
   "execution_count": 23,
   "id": "71725f08-b592-4a90-9c73-3b64fd8dc97e",
   "metadata": {},
   "outputs": [
    {
     "data": {
      "text/plain": [
       "{'dataset name': 'diginetica',\n",
       " 'length 1 sessions filtered': 90694,\n",
       " 'max date': 1464739200.0,\n",
       " 'len training sessions (tra_sess)': 186670,\n",
       " 'len test sessions (tes_sess)': 15979}"
      ]
     },
     "execution_count": 23,
     "metadata": {},
     "output_type": "execute_result"
    }
   ],
   "source": [
    "preprocess_output_log['len training sessions (tra_sess)'] = len(tra_sess)\n",
    "preprocess_output_log['len test sessions (tes_sess)'] = len(tes_sess)\n",
    "preprocess_output_log"
   ]
  },
  {
   "cell_type": "code",
   "execution_count": 24,
   "id": "2fbfe055-08ae-48c5-bd1c-c3c70968db65",
   "metadata": {},
   "outputs": [
    {
     "name": "stderr",
     "output_type": "stream",
     "text": [
      "100%|██████████| 186670/186670 [00:00<00:00, 219401.32it/s]\n"
     ]
    },
    {
     "name": "stdout",
     "output_type": "stream",
     "text": [
      "43098\n"
     ]
    },
    {
     "name": "stderr",
     "output_type": "stream",
     "text": [
      "100%|██████████| 15979/15979 [00:00<00:00, 289029.69it/s]\n"
     ]
    }
   ],
   "source": [
    "# Choosing item count >=5 gives approximately the same number of items as reported in paper\n",
    "item_dict = {}\n",
    "# Convert training sessions to sequences and renumber items to start from 1\n",
    "def obtian_tra():\n",
    "    train_ids = []\n",
    "    train_seqs = []\n",
    "    train_dates = []\n",
    "    item_ctr = 1\n",
    "    for s, date in tqdm(tra_sess,total=len(tra_sess),leave=True,position=0):\n",
    "        seq = sess_clicks[s]\n",
    "        outseq = []\n",
    "        for i in seq:\n",
    "            if i in item_dict:\n",
    "                outseq += [item_dict[i]]\n",
    "            else:\n",
    "                outseq += [item_ctr]\n",
    "                item_dict[i] = item_ctr\n",
    "                item_ctr += 1\n",
    "        if len(outseq) < 2:  # Doesn't occur\n",
    "            continue\n",
    "        train_ids += [s]\n",
    "        train_dates += [date]\n",
    "        train_seqs += [outseq]\n",
    "    print(item_ctr)     # 43098, 37484\n",
    "    preprocess_output_log['item count:'] = item_ctr\n",
    "    return train_ids, train_dates, train_seqs\n",
    "\n",
    "# Convert test sessions to sequences, ignoring items that do not appear in training set\n",
    "def obtian_tes():\n",
    "    test_ids = []\n",
    "    test_seqs = []\n",
    "    test_dates = []\n",
    "    for s, date in tqdm(tes_sess,total=len(tes_sess),leave=True,position=0):\n",
    "        seq = sess_clicks[s]\n",
    "        outseq = []\n",
    "        for i in seq:\n",
    "            if i in item_dict:\n",
    "                outseq += [item_dict[i]]\n",
    "        if len(outseq) < 2:\n",
    "            continue\n",
    "        test_ids += [s]\n",
    "        test_dates += [date]\n",
    "        test_seqs += [outseq]\n",
    "    return test_ids, test_dates, test_seqs\n",
    "\n",
    "\n",
    "tra_ids, tra_dates, tra_seqs = obtian_tra()\n",
    "tes_ids, tes_dates, tes_seqs = obtian_tes()\n"
   ]
  },
  {
   "cell_type": "code",
   "execution_count": 26,
   "id": "898baab9-4a8a-451c-b817-39cbf4896440",
   "metadata": {},
   "outputs": [
    {
     "name": "stdout",
     "output_type": "stream",
     "text": [
      "719470\n",
      "60858\n",
      "[[1], [3, 4], [3]] [1451606400.0, 1451606400.0, 1451606400.0] [2, 5, 4]\n",
      "[[21553, 20071, 8762, 21566, 6381], [21553, 20071, 8762, 21566], [21553, 20071, 8762]] [1464220800.0, 1464220800.0, 1464220800.0] [21566, 6381, 21566]\n"
     ]
    }
   ],
   "source": [
    "def process_seqs(iseqs, idates):\n",
    "    out_seqs = []\n",
    "    out_dates = []\n",
    "    labs = []\n",
    "    ids = []\n",
    "    for id, seq, date in zip(range(len(iseqs)), iseqs, idates):\n",
    "        for i in range(1, len(seq)):\n",
    "            tar = seq[-i]\n",
    "            labs += [tar]\n",
    "            out_seqs += [seq[:-i]]\n",
    "            out_dates += [date]\n",
    "            ids += [id]\n",
    "    return out_seqs, out_dates, labs, ids\n",
    "\n",
    "\n",
    "tr_seqs, tr_dates, tr_labs, tr_ids = process_seqs(tra_seqs, tra_dates)\n",
    "te_seqs, te_dates, te_labs, te_ids = process_seqs(tes_seqs, tes_dates)\n",
    "tra = (tr_seqs, tr_labs)\n",
    "tes = (te_seqs, te_labs)\n",
    "print(len(tr_seqs))\n",
    "print(len(te_seqs))\n",
    "print(tr_seqs[:3], tr_dates[:3], tr_labs[:3])\n",
    "print(te_seqs[:3], te_dates[:3], te_labs[:3])"
   ]
  },
  {
   "cell_type": "code",
   "execution_count": 27,
   "id": "c62f1cee-efed-484a-9905-f7ced309e21a",
   "metadata": {},
   "outputs": [
    {
     "name": "stdout",
     "output_type": "stream",
     "text": [
      "avg length:  4.850942344040704\n"
     ]
    }
   ],
   "source": [
    "all = 0\n",
    "\n",
    "preprocess_output_log['len training seqs (tr_seqs)'] = len(tr_seqs)\n",
    "preprocess_output_log['len test seqs (te_seqs)'] = len(tr_seqs)\n",
    "\n",
    "for seq in tra_seqs:\n",
    "    all += len(seq)\n",
    "for seq in tes_seqs:\n",
    "    all += len(seq)\n",
    "print('avg length: ', all/(len(tra_seqs) + len(tes_seqs) * 1.0))\n",
    "\n",
    "preprocess_output_log['avg length'] = all/(len(tra_seqs) + len(tes_seqs) * 1.0)\n"
   ]
  },
  {
   "cell_type": "code",
   "execution_count": 28,
   "id": "28bd1c01-1c3d-44e6-8e2b-d9eb5f3ebf48",
   "metadata": {},
   "outputs": [
    {
     "data": {
      "text/plain": [
       "{'dataset name': 'diginetica',\n",
       " 'length 1 sessions filtered': 90694,\n",
       " 'max date': 1464739200.0,\n",
       " 'len training sessions (tra_sess)': 186670,\n",
       " 'len test sessions (tes_sess)': 15979,\n",
       " 'item count:': 43098,\n",
       " 'len training seqs (tr_seqs)': 719470,\n",
       " 'len test seqs (te_seqs)': 719470,\n",
       " 'avg length': 4.850942344040704}"
      ]
     },
     "execution_count": 28,
     "metadata": {},
     "output_type": "execute_result"
    }
   ],
   "source": [
    "preprocess_output_log"
   ]
  },
  {
   "cell_type": "code",
   "execution_count": 30,
   "id": "ccfb9116-a361-48e6-9f0a-49ff3d6bd5fb",
   "metadata": {},
   "outputs": [],
   "source": [
    "pickle.dump(tra, open('train.txt', 'wb'))\n",
    "pickle.dump(tes, open('test.txt', 'wb'))\n",
    "pickle.dump(tra_seqs, open('all_train_seq.txt', 'wb'))\n",
    "pickle.dump(tes_seqs, open('all_test_seq.txt', 'wb'))"
   ]
  },
  {
   "cell_type": "code",
   "execution_count": null,
   "id": "b288833d-a9bd-4a49-82af-d923488eb107",
   "metadata": {},
   "outputs": [],
   "source": []
  },
  {
   "cell_type": "code",
   "execution_count": null,
   "id": "2e3a3fba-f1d8-4a64-8b68-8f38ca22595c",
   "metadata": {},
   "outputs": [],
   "source": []
  },
  {
   "cell_type": "code",
   "execution_count": null,
   "id": "1a9f83e4-ec9d-4790-b8da-1e7052b3182f",
   "metadata": {},
   "outputs": [],
   "source": []
  }
 ],
 "metadata": {
  "kernelspec": {
   "display_name": "msgifsr",
   "language": "python",
   "name": "msgifsr"
  },
  "language_info": {
   "codemirror_mode": {
    "name": "ipython",
    "version": 3
   },
   "file_extension": ".py",
   "mimetype": "text/x-python",
   "name": "python",
   "nbconvert_exporter": "python",
   "pygments_lexer": "ipython3",
   "version": "3.8.12"
  }
 },
 "nbformat": 4,
 "nbformat_minor": 5
}
